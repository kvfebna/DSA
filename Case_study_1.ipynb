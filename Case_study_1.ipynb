{
 "cells": [
  {
   "cell_type": "markdown",
   "id": "fbc4e539",
   "metadata": {},
   "source": [
    "# Case Study on Testing of Hypothesis "
   ]
  },
  {
   "cell_type": "markdown",
   "id": "6af682d8",
   "metadata": {},
   "source": [
    "### Import required libraries"
   ]
  },
  {
   "cell_type": "code",
   "execution_count": 1,
   "id": "48736e65",
   "metadata": {},
   "outputs": [],
   "source": [
    "import numpy as np\n",
    "import pandas as pd\n",
    "from scipy.stats import ttest_ind\n",
    "from scipy.stats import chi2_contingency"
   ]
  },
  {
   "cell_type": "markdown",
   "id": "08077ac3",
   "metadata": {},
   "source": [
    "### Read the data"
   ]
  },
  {
   "cell_type": "code",
   "execution_count": 2,
   "id": "d4600df0",
   "metadata": {},
   "outputs": [
    {
     "data": {
      "text/html": [
       "<div>\n",
       "<style scoped>\n",
       "    .dataframe tbody tr th:only-of-type {\n",
       "        vertical-align: middle;\n",
       "    }\n",
       "\n",
       "    .dataframe tbody tr th {\n",
       "        vertical-align: top;\n",
       "    }\n",
       "\n",
       "    .dataframe thead th {\n",
       "        text-align: right;\n",
       "    }\n",
       "</style>\n",
       "<table border=\"1\" class=\"dataframe\">\n",
       "  <thead>\n",
       "    <tr style=\"text-align: right;\">\n",
       "      <th></th>\n",
       "      <th>Month</th>\n",
       "      <th>Region</th>\n",
       "      <th>Manager</th>\n",
       "      <th>Sales_before_digital_add(in $)</th>\n",
       "      <th>Sales_After_digital_add(in $)</th>\n",
       "    </tr>\n",
       "  </thead>\n",
       "  <tbody>\n",
       "    <tr>\n",
       "      <th>0</th>\n",
       "      <td>Month-1</td>\n",
       "      <td>Region - A</td>\n",
       "      <td>Manager - A</td>\n",
       "      <td>132921</td>\n",
       "      <td>270390</td>\n",
       "    </tr>\n",
       "    <tr>\n",
       "      <th>1</th>\n",
       "      <td>Month-2</td>\n",
       "      <td>Region - A</td>\n",
       "      <td>Manager - C</td>\n",
       "      <td>149559</td>\n",
       "      <td>223334</td>\n",
       "    </tr>\n",
       "    <tr>\n",
       "      <th>2</th>\n",
       "      <td>Month-3</td>\n",
       "      <td>Region - B</td>\n",
       "      <td>Manager - A</td>\n",
       "      <td>146278</td>\n",
       "      <td>244243</td>\n",
       "    </tr>\n",
       "    <tr>\n",
       "      <th>3</th>\n",
       "      <td>Month-4</td>\n",
       "      <td>Region - B</td>\n",
       "      <td>Manager - B</td>\n",
       "      <td>152167</td>\n",
       "      <td>231808</td>\n",
       "    </tr>\n",
       "    <tr>\n",
       "      <th>4</th>\n",
       "      <td>Month-5</td>\n",
       "      <td>Region - C</td>\n",
       "      <td>Manager - B</td>\n",
       "      <td>159525</td>\n",
       "      <td>258402</td>\n",
       "    </tr>\n",
       "  </tbody>\n",
       "</table>\n",
       "</div>"
      ],
      "text/plain": [
       "     Month      Region      Manager  Sales_before_digital_add(in $)  \\\n",
       "0  Month-1  Region - A  Manager - A                          132921   \n",
       "1  Month-2  Region - A  Manager - C                          149559   \n",
       "2  Month-3  Region - B  Manager - A                          146278   \n",
       "3  Month-4  Region - B  Manager - B                          152167   \n",
       "4  Month-5  Region - C  Manager - B                          159525   \n",
       "\n",
       "   Sales_After_digital_add(in $)  \n",
       "0                         270390  \n",
       "1                         223334  \n",
       "2                         244243  \n",
       "3                         231808  \n",
       "4                         258402  "
      ]
     },
     "execution_count": 2,
     "metadata": {},
     "output_type": "execute_result"
    }
   ],
   "source": [
    "sales_data=pd.read_csv(r\"C:\\Users\\aksmk\\OneDrive\\Desktop\\DSA\\Datasets\\Sales_add.csv\")\n",
    "sales_data.head()"
   ]
  },
  {
   "cell_type": "markdown",
   "id": "57b4a083",
   "metadata": {},
   "source": [
    "## Clarify whether there is any increase in sales after stepping into digital marketing"
   ]
  },
  {
   "cell_type": "markdown",
   "id": "17924334",
   "metadata": {},
   "source": [
    "### State the null and alternative hypotheses"
   ]
  },
  {
   "cell_type": "markdown",
   "id": "d6e69d55",
   "metadata": {},
   "source": [
    "Null hypothesis, H0: There is no increase in sales after stepping into digital marketing or digital marketing has no impact in sales\n",
    "\n",
    "Alternative hypothesis, HA: There is an increase in sales after stepping into digital marketing or digital marketing has an impact in sales"
   ]
  },
  {
   "cell_type": "markdown",
   "id": "02d79027",
   "metadata": {},
   "source": [
    "### Identify the test statistic"
   ]
  },
  {
   "cell_type": "markdown",
   "id": "22d303a6",
   "metadata": {},
   "source": [
    "T test is used to determine whether a process actually has an effect on the population of interest. Also T test is performed in samples with relatively small sample size. So here we use T test."
   ]
  },
  {
   "cell_type": "code",
   "execution_count": 3,
   "id": "8734acaa",
   "metadata": {},
   "outputs": [
    {
     "data": {
      "text/plain": [
       "2.614368006904645e-16"
      ]
     },
     "execution_count": 3,
     "metadata": {},
     "output_type": "execute_result"
    }
   ],
   "source": [
    "t_stat,p_value=ttest_ind(sales_data['Sales_before_digital_add(in $)'],sales_data['Sales_After_digital_add(in $)'])\n",
    "p_value"
   ]
  },
  {
   "cell_type": "markdown",
   "id": "6221e5a4",
   "metadata": {},
   "source": [
    "Set level of significance to 5%. i.e. alpha = 0.05"
   ]
  },
  {
   "cell_type": "code",
   "execution_count": 4,
   "id": "9bb9ca78",
   "metadata": {},
   "outputs": [],
   "source": [
    "alpha=0.05"
   ]
  },
  {
   "cell_type": "code",
   "execution_count": 5,
   "id": "2b497a30",
   "metadata": {},
   "outputs": [
    {
     "name": "stdout",
     "output_type": "stream",
     "text": [
      "Reject null hypothesis\n"
     ]
    }
   ],
   "source": [
    "if p_value<alpha:\n",
    "    print('Reject null hypothesis')\n",
    "else:\n",
    "    print('Accept null hypothesis')"
   ]
  },
  {
   "cell_type": "markdown",
   "id": "73ce3d3b",
   "metadata": {},
   "source": [
    "So we can say that, there is a significant increase in sales after stepping into digital marketing or digital marketing has an impact in sales with 95% confidence."
   ]
  },
  {
   "cell_type": "markdown",
   "id": "ded07524",
   "metadata": {},
   "source": [
    "## Check whether there is any dependency between the features 'Region' and 'Manager'"
   ]
  },
  {
   "cell_type": "markdown",
   "id": "67c74b80",
   "metadata": {},
   "source": [
    "### State the null and alternative hypotheses"
   ]
  },
  {
   "cell_type": "markdown",
   "id": "f747e5fa",
   "metadata": {},
   "source": [
    "Null hypothesis, H0: There is no dependency between the features 'Region' and 'Manager' or features 'Region' and 'Manager' are independent\n",
    "\n",
    "\n",
    "Alternative hypothesis, HA: There is some kind of dependency between the features 'Region' and 'Manager' or features 'Region' and 'Manager' are not independent"
   ]
  },
  {
   "cell_type": "markdown",
   "id": "b3e056fb",
   "metadata": {},
   "source": [
    "### Identify the test statistic"
   ]
  },
  {
   "cell_type": "markdown",
   "id": "69f30b77",
   "metadata": {},
   "source": [
    "If both features are qualitative, we use chi-sqaure test of independence. "
   ]
  },
  {
   "cell_type": "markdown",
   "id": "525f7627",
   "metadata": {},
   "source": [
    "### 1. Using count"
   ]
  },
  {
   "cell_type": "markdown",
   "id": "c9215de7",
   "metadata": {},
   "source": [
    "We create a cross-tabulated data using 'Region' and 'Manager' counts and then perform chi-square test on that data."
   ]
  },
  {
   "cell_type": "code",
   "execution_count": 6,
   "id": "9d3bc9d1",
   "metadata": {},
   "outputs": [
    {
     "data": {
      "text/html": [
       "<div>\n",
       "<style scoped>\n",
       "    .dataframe tbody tr th:only-of-type {\n",
       "        vertical-align: middle;\n",
       "    }\n",
       "\n",
       "    .dataframe tbody tr th {\n",
       "        vertical-align: top;\n",
       "    }\n",
       "\n",
       "    .dataframe thead th {\n",
       "        text-align: right;\n",
       "    }\n",
       "</style>\n",
       "<table border=\"1\" class=\"dataframe\">\n",
       "  <thead>\n",
       "    <tr style=\"text-align: right;\">\n",
       "      <th>Manager</th>\n",
       "      <th>Manager - A</th>\n",
       "      <th>Manager - B</th>\n",
       "      <th>Manager - C</th>\n",
       "    </tr>\n",
       "    <tr>\n",
       "      <th>Region</th>\n",
       "      <th></th>\n",
       "      <th></th>\n",
       "      <th></th>\n",
       "    </tr>\n",
       "  </thead>\n",
       "  <tbody>\n",
       "    <tr>\n",
       "      <th>Region - A</th>\n",
       "      <td>4</td>\n",
       "      <td>3</td>\n",
       "      <td>3</td>\n",
       "    </tr>\n",
       "    <tr>\n",
       "      <th>Region - B</th>\n",
       "      <td>4</td>\n",
       "      <td>1</td>\n",
       "      <td>2</td>\n",
       "    </tr>\n",
       "    <tr>\n",
       "      <th>Region - C</th>\n",
       "      <td>1</td>\n",
       "      <td>3</td>\n",
       "      <td>1</td>\n",
       "    </tr>\n",
       "  </tbody>\n",
       "</table>\n",
       "</div>"
      ],
      "text/plain": [
       "Manager     Manager - A  Manager - B  Manager - C\n",
       "Region                                           \n",
       "Region - A            4            3            3\n",
       "Region - B            4            1            2\n",
       "Region - C            1            3            1"
      ]
     },
     "execution_count": 6,
     "metadata": {},
     "output_type": "execute_result"
    }
   ],
   "source": [
    "pd.crosstab(sales_data.Region,sales_data.Manager)"
   ]
  },
  {
   "cell_type": "code",
   "execution_count": 7,
   "id": "1c0ecb3d",
   "metadata": {},
   "outputs": [
    {
     "data": {
      "text/plain": [
       "0.5493991051158094"
      ]
     },
     "execution_count": 7,
     "metadata": {},
     "output_type": "execute_result"
    }
   ],
   "source": [
    "chi_square_args = pd.crosstab(sales_data.Region,sales_data.Manager).values\n",
    "chi_stat,p_value,dof,expected= chi2_contingency(chi_square_args)\n",
    "p_value"
   ]
  },
  {
   "cell_type": "markdown",
   "id": "e257ccf0",
   "metadata": {},
   "source": [
    "Here also level of significance is 5%. i.e. alpha = 0.05"
   ]
  },
  {
   "cell_type": "code",
   "execution_count": 8,
   "id": "e9133b6f",
   "metadata": {},
   "outputs": [
    {
     "name": "stdout",
     "output_type": "stream",
     "text": [
      "Accept null hypothesis\n"
     ]
    }
   ],
   "source": [
    "if p_value<alpha:\n",
    "    print('Reject null hypothesis')\n",
    "else:\n",
    "    print('Accept null hypothesis')"
   ]
  },
  {
   "cell_type": "markdown",
   "id": "a32f303a",
   "metadata": {},
   "source": [
    "Test failed to reject null hypothesis. So we can say that, when we consider count, the features 'Region' and 'Manager' are statistically independent with 95% confidence."
   ]
  },
  {
   "cell_type": "markdown",
   "id": "8556dde1",
   "metadata": {},
   "source": [
    "### 2. Using sum of sales"
   ]
  },
  {
   "cell_type": "markdown",
   "id": "91997dc6",
   "metadata": {},
   "source": [
    "We create a cross-tabulated data using sum of 'Region' and 'Manager' sales values and then perform chi-square test on that data. Since the data is not in the required format we need to reshape the data using melt function."
   ]
  },
  {
   "cell_type": "code",
   "execution_count": 9,
   "id": "73aefdd0",
   "metadata": {},
   "outputs": [
    {
     "data": {
      "text/html": [
       "<div>\n",
       "<style scoped>\n",
       "    .dataframe tbody tr th:only-of-type {\n",
       "        vertical-align: middle;\n",
       "    }\n",
       "\n",
       "    .dataframe tbody tr th {\n",
       "        vertical-align: top;\n",
       "    }\n",
       "\n",
       "    .dataframe thead th {\n",
       "        text-align: right;\n",
       "    }\n",
       "</style>\n",
       "<table border=\"1\" class=\"dataframe\">\n",
       "  <thead>\n",
       "    <tr style=\"text-align: right;\">\n",
       "      <th></th>\n",
       "      <th>Manager</th>\n",
       "      <th>Region</th>\n",
       "      <th>variable</th>\n",
       "      <th>Sales</th>\n",
       "    </tr>\n",
       "  </thead>\n",
       "  <tbody>\n",
       "    <tr>\n",
       "      <th>0</th>\n",
       "      <td>Manager - A</td>\n",
       "      <td>Region - A</td>\n",
       "      <td>Sales_before_digital_add(in $)</td>\n",
       "      <td>132921</td>\n",
       "    </tr>\n",
       "    <tr>\n",
       "      <th>1</th>\n",
       "      <td>Manager - C</td>\n",
       "      <td>Region - A</td>\n",
       "      <td>Sales_before_digital_add(in $)</td>\n",
       "      <td>149559</td>\n",
       "    </tr>\n",
       "    <tr>\n",
       "      <th>2</th>\n",
       "      <td>Manager - A</td>\n",
       "      <td>Region - B</td>\n",
       "      <td>Sales_before_digital_add(in $)</td>\n",
       "      <td>146278</td>\n",
       "    </tr>\n",
       "    <tr>\n",
       "      <th>3</th>\n",
       "      <td>Manager - B</td>\n",
       "      <td>Region - B</td>\n",
       "      <td>Sales_before_digital_add(in $)</td>\n",
       "      <td>152167</td>\n",
       "    </tr>\n",
       "    <tr>\n",
       "      <th>4</th>\n",
       "      <td>Manager - B</td>\n",
       "      <td>Region - C</td>\n",
       "      <td>Sales_before_digital_add(in $)</td>\n",
       "      <td>159525</td>\n",
       "    </tr>\n",
       "  </tbody>\n",
       "</table>\n",
       "</div>"
      ],
      "text/plain": [
       "       Manager      Region                        variable   Sales\n",
       "0  Manager - A  Region - A  Sales_before_digital_add(in $)  132921\n",
       "1  Manager - C  Region - A  Sales_before_digital_add(in $)  149559\n",
       "2  Manager - A  Region - B  Sales_before_digital_add(in $)  146278\n",
       "3  Manager - B  Region - B  Sales_before_digital_add(in $)  152167\n",
       "4  Manager - B  Region - C  Sales_before_digital_add(in $)  159525"
      ]
     },
     "execution_count": 9,
     "metadata": {},
     "output_type": "execute_result"
    }
   ],
   "source": [
    "sales_data_new=pd.melt(sales_data,id_vars=['Manager','Region'],value_vars=['Sales_before_digital_add(in $)','Sales_After_digital_add(in $)'],value_name='Sales')\n",
    "sales_data_new.head()     "
   ]
  },
  {
   "cell_type": "code",
   "execution_count": 10,
   "id": "7d8a61fa",
   "metadata": {},
   "outputs": [
    {
     "data": {
      "text/html": [
       "<div>\n",
       "<style scoped>\n",
       "    .dataframe tbody tr th:only-of-type {\n",
       "        vertical-align: middle;\n",
       "    }\n",
       "\n",
       "    .dataframe tbody tr th {\n",
       "        vertical-align: top;\n",
       "    }\n",
       "\n",
       "    .dataframe thead th {\n",
       "        text-align: right;\n",
       "    }\n",
       "</style>\n",
       "<table border=\"1\" class=\"dataframe\">\n",
       "  <thead>\n",
       "    <tr style=\"text-align: right;\">\n",
       "      <th></th>\n",
       "      <th>Manager</th>\n",
       "      <th>Region</th>\n",
       "      <th>variable</th>\n",
       "      <th>Sales</th>\n",
       "    </tr>\n",
       "  </thead>\n",
       "  <tbody>\n",
       "    <tr>\n",
       "      <th>39</th>\n",
       "      <td>Manager - B</td>\n",
       "      <td>Region - C</td>\n",
       "      <td>Sales_After_digital_add(in $)</td>\n",
       "      <td>191517</td>\n",
       "    </tr>\n",
       "    <tr>\n",
       "      <th>40</th>\n",
       "      <td>Manager - A</td>\n",
       "      <td>Region - B</td>\n",
       "      <td>Sales_After_digital_add(in $)</td>\n",
       "      <td>227040</td>\n",
       "    </tr>\n",
       "    <tr>\n",
       "      <th>41</th>\n",
       "      <td>Manager - B</td>\n",
       "      <td>Region - A</td>\n",
       "      <td>Sales_After_digital_add(in $)</td>\n",
       "      <td>212579</td>\n",
       "    </tr>\n",
       "    <tr>\n",
       "      <th>42</th>\n",
       "      <td>Manager - A</td>\n",
       "      <td>Region - B</td>\n",
       "      <td>Sales_After_digital_add(in $)</td>\n",
       "      <td>263388</td>\n",
       "    </tr>\n",
       "    <tr>\n",
       "      <th>43</th>\n",
       "      <td>Manager - C</td>\n",
       "      <td>Region - A</td>\n",
       "      <td>Sales_After_digital_add(in $)</td>\n",
       "      <td>243020</td>\n",
       "    </tr>\n",
       "  </tbody>\n",
       "</table>\n",
       "</div>"
      ],
      "text/plain": [
       "        Manager      Region                       variable   Sales\n",
       "39  Manager - B  Region - C  Sales_After_digital_add(in $)  191517\n",
       "40  Manager - A  Region - B  Sales_After_digital_add(in $)  227040\n",
       "41  Manager - B  Region - A  Sales_After_digital_add(in $)  212579\n",
       "42  Manager - A  Region - B  Sales_After_digital_add(in $)  263388\n",
       "43  Manager - C  Region - A  Sales_After_digital_add(in $)  243020"
      ]
     },
     "execution_count": 10,
     "metadata": {},
     "output_type": "execute_result"
    }
   ],
   "source": [
    "sales_data_new.tail() "
   ]
  },
  {
   "cell_type": "code",
   "execution_count": 11,
   "id": "07bc3608",
   "metadata": {},
   "outputs": [
    {
     "data": {
      "text/html": [
       "<div>\n",
       "<style scoped>\n",
       "    .dataframe tbody tr th:only-of-type {\n",
       "        vertical-align: middle;\n",
       "    }\n",
       "\n",
       "    .dataframe tbody tr th {\n",
       "        vertical-align: top;\n",
       "    }\n",
       "\n",
       "    .dataframe thead th {\n",
       "        text-align: right;\n",
       "    }\n",
       "</style>\n",
       "<table border=\"1\" class=\"dataframe\">\n",
       "  <thead>\n",
       "    <tr style=\"text-align: right;\">\n",
       "      <th>Manager</th>\n",
       "      <th>Manager - A</th>\n",
       "      <th>Manager - B</th>\n",
       "      <th>Manager - C</th>\n",
       "    </tr>\n",
       "    <tr>\n",
       "      <th>Region</th>\n",
       "      <th></th>\n",
       "      <th></th>\n",
       "      <th></th>\n",
       "    </tr>\n",
       "  </thead>\n",
       "  <tbody>\n",
       "    <tr>\n",
       "      <th>Region - A</th>\n",
       "      <td>1624951</td>\n",
       "      <td>1123683</td>\n",
       "      <td>1121946</td>\n",
       "    </tr>\n",
       "    <tr>\n",
       "      <th>Region - B</th>\n",
       "      <td>1510751</td>\n",
       "      <td>383975</td>\n",
       "      <td>760034</td>\n",
       "    </tr>\n",
       "    <tr>\n",
       "      <th>Region - C</th>\n",
       "      <td>376799</td>\n",
       "      <td>1113131</td>\n",
       "      <td>352731</td>\n",
       "    </tr>\n",
       "  </tbody>\n",
       "</table>\n",
       "</div>"
      ],
      "text/plain": [
       "Manager     Manager - A  Manager - B  Manager - C\n",
       "Region                                           \n",
       "Region - A      1624951      1123683      1121946\n",
       "Region - B      1510751       383975       760034\n",
       "Region - C       376799      1113131       352731"
      ]
     },
     "execution_count": 11,
     "metadata": {},
     "output_type": "execute_result"
    }
   ],
   "source": [
    "df=pd.crosstab(sales_data_new['Region'],sales_data_new['Manager'],values=sales_data_new['Sales'],aggfunc='sum')\n",
    "df"
   ]
  },
  {
   "cell_type": "code",
   "execution_count": 12,
   "id": "36412f0d",
   "metadata": {},
   "outputs": [
    {
     "data": {
      "text/plain": [
       "0.0"
      ]
     },
     "execution_count": 12,
     "metadata": {},
     "output_type": "execute_result"
    }
   ],
   "source": [
    "chi_stat,p_value,dof,expected=chi2_contingency(df)\n",
    "p_value"
   ]
  },
  {
   "cell_type": "code",
   "execution_count": 13,
   "id": "16082e55",
   "metadata": {},
   "outputs": [
    {
     "name": "stdout",
     "output_type": "stream",
     "text": [
      "Reject null hypothesis\n"
     ]
    }
   ],
   "source": [
    "if p_value<alpha:\n",
    "    print('Reject null hypothesis')\n",
    "else:\n",
    "    print('Accept null hypothesis')"
   ]
  },
  {
   "cell_type": "markdown",
   "id": "ef550bb8",
   "metadata": {},
   "source": [
    "So we can say that, when we consider the total sales, the features 'Region' and 'Manager' are statistically dependent with 95% confidence."
   ]
  }
 ],
 "metadata": {
  "kernelspec": {
   "display_name": "Python 3 (ipykernel)",
   "language": "python",
   "name": "python3"
  },
  "language_info": {
   "codemirror_mode": {
    "name": "ipython",
    "version": 3
   },
   "file_extension": ".py",
   "mimetype": "text/x-python",
   "name": "python",
   "nbconvert_exporter": "python",
   "pygments_lexer": "ipython3",
   "version": "3.11.5"
  }
 },
 "nbformat": 4,
 "nbformat_minor": 5
}
