{
 "cells": [
  {
   "cell_type": "markdown",
   "id": "7f01e034",
   "metadata": {},
   "source": [
    "### Import required libraries"
   ]
  },
  {
   "cell_type": "code",
   "execution_count": 1,
   "id": "e357ac0a",
   "metadata": {},
   "outputs": [],
   "source": [
    "import numpy as np\n",
    "import pandas as pd\n",
    "import matplotlib.pyplot as plt\n",
    "import seaborn as sns\n",
    "from sklearn.preprocessing import LabelEncoder\n",
    "from sklearn.preprocessing import StandardScaler\n",
    "from sklearn.model_selection import train_test_split\n",
    "from sklearn.linear_model import LogisticRegression\n",
    "from sklearn.neighbors import KNeighborsClassifier\n",
    "from sklearn.svm import SVC\n",
    "from sklearn.tree import DecisionTreeClassifier\n",
    "from sklearn.ensemble import RandomForestClassifier\n",
    "from sklearn.metrics import accuracy_score,precision_score,recall_score,f1_score\n",
    "import warnings\n",
    "warnings.filterwarnings(\"ignore\")"
   ]
  },
  {
   "cell_type": "markdown",
   "id": "a72fc6ac",
   "metadata": {},
   "source": [
    " ### Read the datasets to python environment"
   ]
  },
  {
   "cell_type": "code",
   "execution_count": 2,
   "id": "45f692f3",
   "metadata": {},
   "outputs": [],
   "source": [
    "train=pd.read_csv(r\"C:\\Users\\aksmk\\OneDrive\\Desktop\\DSA\\Virtual competition\\2\\train_ctrUa4K.csv\")\n",
    "test=pd.read_csv(r\"C:\\Users\\aksmk\\OneDrive\\Desktop\\DSA\\Virtual competition\\2\\test_lAUu6dG.csv\")"
   ]
  },
  {
   "cell_type": "markdown",
   "id": "5dcb9b72",
   "metadata": {},
   "source": [
    "# Exploratory Data Analysis"
   ]
  },
  {
   "cell_type": "code",
   "execution_count": 3,
   "id": "48805c3d",
   "metadata": {},
   "outputs": [
    {
     "data": {
      "text/html": [
       "<div>\n",
       "<style scoped>\n",
       "    .dataframe tbody tr th:only-of-type {\n",
       "        vertical-align: middle;\n",
       "    }\n",
       "\n",
       "    .dataframe tbody tr th {\n",
       "        vertical-align: top;\n",
       "    }\n",
       "\n",
       "    .dataframe thead th {\n",
       "        text-align: right;\n",
       "    }\n",
       "</style>\n",
       "<table border=\"1\" class=\"dataframe\">\n",
       "  <thead>\n",
       "    <tr style=\"text-align: right;\">\n",
       "      <th></th>\n",
       "      <th>Loan_ID</th>\n",
       "      <th>Gender</th>\n",
       "      <th>Married</th>\n",
       "      <th>Dependents</th>\n",
       "      <th>Education</th>\n",
       "      <th>Self_Employed</th>\n",
       "      <th>ApplicantIncome</th>\n",
       "      <th>CoapplicantIncome</th>\n",
       "      <th>LoanAmount</th>\n",
       "      <th>Loan_Amount_Term</th>\n",
       "      <th>Credit_History</th>\n",
       "      <th>Property_Area</th>\n",
       "      <th>Loan_Status</th>\n",
       "    </tr>\n",
       "  </thead>\n",
       "  <tbody>\n",
       "    <tr>\n",
       "      <th>0</th>\n",
       "      <td>LP001002</td>\n",
       "      <td>Male</td>\n",
       "      <td>No</td>\n",
       "      <td>0</td>\n",
       "      <td>Graduate</td>\n",
       "      <td>No</td>\n",
       "      <td>5849</td>\n",
       "      <td>0.0</td>\n",
       "      <td>NaN</td>\n",
       "      <td>360.0</td>\n",
       "      <td>1.0</td>\n",
       "      <td>Urban</td>\n",
       "      <td>Y</td>\n",
       "    </tr>\n",
       "    <tr>\n",
       "      <th>1</th>\n",
       "      <td>LP001003</td>\n",
       "      <td>Male</td>\n",
       "      <td>Yes</td>\n",
       "      <td>1</td>\n",
       "      <td>Graduate</td>\n",
       "      <td>No</td>\n",
       "      <td>4583</td>\n",
       "      <td>1508.0</td>\n",
       "      <td>128.0</td>\n",
       "      <td>360.0</td>\n",
       "      <td>1.0</td>\n",
       "      <td>Rural</td>\n",
       "      <td>N</td>\n",
       "    </tr>\n",
       "    <tr>\n",
       "      <th>2</th>\n",
       "      <td>LP001005</td>\n",
       "      <td>Male</td>\n",
       "      <td>Yes</td>\n",
       "      <td>0</td>\n",
       "      <td>Graduate</td>\n",
       "      <td>Yes</td>\n",
       "      <td>3000</td>\n",
       "      <td>0.0</td>\n",
       "      <td>66.0</td>\n",
       "      <td>360.0</td>\n",
       "      <td>1.0</td>\n",
       "      <td>Urban</td>\n",
       "      <td>Y</td>\n",
       "    </tr>\n",
       "    <tr>\n",
       "      <th>3</th>\n",
       "      <td>LP001006</td>\n",
       "      <td>Male</td>\n",
       "      <td>Yes</td>\n",
       "      <td>0</td>\n",
       "      <td>Not Graduate</td>\n",
       "      <td>No</td>\n",
       "      <td>2583</td>\n",
       "      <td>2358.0</td>\n",
       "      <td>120.0</td>\n",
       "      <td>360.0</td>\n",
       "      <td>1.0</td>\n",
       "      <td>Urban</td>\n",
       "      <td>Y</td>\n",
       "    </tr>\n",
       "    <tr>\n",
       "      <th>4</th>\n",
       "      <td>LP001008</td>\n",
       "      <td>Male</td>\n",
       "      <td>No</td>\n",
       "      <td>0</td>\n",
       "      <td>Graduate</td>\n",
       "      <td>No</td>\n",
       "      <td>6000</td>\n",
       "      <td>0.0</td>\n",
       "      <td>141.0</td>\n",
       "      <td>360.0</td>\n",
       "      <td>1.0</td>\n",
       "      <td>Urban</td>\n",
       "      <td>Y</td>\n",
       "    </tr>\n",
       "    <tr>\n",
       "      <th>...</th>\n",
       "      <td>...</td>\n",
       "      <td>...</td>\n",
       "      <td>...</td>\n",
       "      <td>...</td>\n",
       "      <td>...</td>\n",
       "      <td>...</td>\n",
       "      <td>...</td>\n",
       "      <td>...</td>\n",
       "      <td>...</td>\n",
       "      <td>...</td>\n",
       "      <td>...</td>\n",
       "      <td>...</td>\n",
       "      <td>...</td>\n",
       "    </tr>\n",
       "    <tr>\n",
       "      <th>609</th>\n",
       "      <td>LP002978</td>\n",
       "      <td>Female</td>\n",
       "      <td>No</td>\n",
       "      <td>0</td>\n",
       "      <td>Graduate</td>\n",
       "      <td>No</td>\n",
       "      <td>2900</td>\n",
       "      <td>0.0</td>\n",
       "      <td>71.0</td>\n",
       "      <td>360.0</td>\n",
       "      <td>1.0</td>\n",
       "      <td>Rural</td>\n",
       "      <td>Y</td>\n",
       "    </tr>\n",
       "    <tr>\n",
       "      <th>610</th>\n",
       "      <td>LP002979</td>\n",
       "      <td>Male</td>\n",
       "      <td>Yes</td>\n",
       "      <td>3+</td>\n",
       "      <td>Graduate</td>\n",
       "      <td>No</td>\n",
       "      <td>4106</td>\n",
       "      <td>0.0</td>\n",
       "      <td>40.0</td>\n",
       "      <td>180.0</td>\n",
       "      <td>1.0</td>\n",
       "      <td>Rural</td>\n",
       "      <td>Y</td>\n",
       "    </tr>\n",
       "    <tr>\n",
       "      <th>611</th>\n",
       "      <td>LP002983</td>\n",
       "      <td>Male</td>\n",
       "      <td>Yes</td>\n",
       "      <td>1</td>\n",
       "      <td>Graduate</td>\n",
       "      <td>No</td>\n",
       "      <td>8072</td>\n",
       "      <td>240.0</td>\n",
       "      <td>253.0</td>\n",
       "      <td>360.0</td>\n",
       "      <td>1.0</td>\n",
       "      <td>Urban</td>\n",
       "      <td>Y</td>\n",
       "    </tr>\n",
       "    <tr>\n",
       "      <th>612</th>\n",
       "      <td>LP002984</td>\n",
       "      <td>Male</td>\n",
       "      <td>Yes</td>\n",
       "      <td>2</td>\n",
       "      <td>Graduate</td>\n",
       "      <td>No</td>\n",
       "      <td>7583</td>\n",
       "      <td>0.0</td>\n",
       "      <td>187.0</td>\n",
       "      <td>360.0</td>\n",
       "      <td>1.0</td>\n",
       "      <td>Urban</td>\n",
       "      <td>Y</td>\n",
       "    </tr>\n",
       "    <tr>\n",
       "      <th>613</th>\n",
       "      <td>LP002990</td>\n",
       "      <td>Female</td>\n",
       "      <td>No</td>\n",
       "      <td>0</td>\n",
       "      <td>Graduate</td>\n",
       "      <td>Yes</td>\n",
       "      <td>4583</td>\n",
       "      <td>0.0</td>\n",
       "      <td>133.0</td>\n",
       "      <td>360.0</td>\n",
       "      <td>0.0</td>\n",
       "      <td>Semiurban</td>\n",
       "      <td>N</td>\n",
       "    </tr>\n",
       "  </tbody>\n",
       "</table>\n",
       "<p>614 rows × 13 columns</p>\n",
       "</div>"
      ],
      "text/plain": [
       "      Loan_ID  Gender Married Dependents     Education Self_Employed  \\\n",
       "0    LP001002    Male      No          0      Graduate            No   \n",
       "1    LP001003    Male     Yes          1      Graduate            No   \n",
       "2    LP001005    Male     Yes          0      Graduate           Yes   \n",
       "3    LP001006    Male     Yes          0  Not Graduate            No   \n",
       "4    LP001008    Male      No          0      Graduate            No   \n",
       "..        ...     ...     ...        ...           ...           ...   \n",
       "609  LP002978  Female      No          0      Graduate            No   \n",
       "610  LP002979    Male     Yes         3+      Graduate            No   \n",
       "611  LP002983    Male     Yes          1      Graduate            No   \n",
       "612  LP002984    Male     Yes          2      Graduate            No   \n",
       "613  LP002990  Female      No          0      Graduate           Yes   \n",
       "\n",
       "     ApplicantIncome  CoapplicantIncome  LoanAmount  Loan_Amount_Term  \\\n",
       "0               5849                0.0         NaN             360.0   \n",
       "1               4583             1508.0       128.0             360.0   \n",
       "2               3000                0.0        66.0             360.0   \n",
       "3               2583             2358.0       120.0             360.0   \n",
       "4               6000                0.0       141.0             360.0   \n",
       "..               ...                ...         ...               ...   \n",
       "609             2900                0.0        71.0             360.0   \n",
       "610             4106                0.0        40.0             180.0   \n",
       "611             8072              240.0       253.0             360.0   \n",
       "612             7583                0.0       187.0             360.0   \n",
       "613             4583                0.0       133.0             360.0   \n",
       "\n",
       "     Credit_History Property_Area Loan_Status  \n",
       "0               1.0         Urban           Y  \n",
       "1               1.0         Rural           N  \n",
       "2               1.0         Urban           Y  \n",
       "3               1.0         Urban           Y  \n",
       "4               1.0         Urban           Y  \n",
       "..              ...           ...         ...  \n",
       "609             1.0         Rural           Y  \n",
       "610             1.0         Rural           Y  \n",
       "611             1.0         Urban           Y  \n",
       "612             1.0         Urban           Y  \n",
       "613             0.0     Semiurban           N  \n",
       "\n",
       "[614 rows x 13 columns]"
      ]
     },
     "execution_count": 3,
     "metadata": {},
     "output_type": "execute_result"
    }
   ],
   "source": [
    "train"
   ]
  },
  {
   "cell_type": "code",
   "execution_count": 4,
   "id": "693660a7",
   "metadata": {},
   "outputs": [
    {
     "data": {
      "text/html": [
       "<div>\n",
       "<style scoped>\n",
       "    .dataframe tbody tr th:only-of-type {\n",
       "        vertical-align: middle;\n",
       "    }\n",
       "\n",
       "    .dataframe tbody tr th {\n",
       "        vertical-align: top;\n",
       "    }\n",
       "\n",
       "    .dataframe thead th {\n",
       "        text-align: right;\n",
       "    }\n",
       "</style>\n",
       "<table border=\"1\" class=\"dataframe\">\n",
       "  <thead>\n",
       "    <tr style=\"text-align: right;\">\n",
       "      <th></th>\n",
       "      <th>Loan_ID</th>\n",
       "      <th>Gender</th>\n",
       "      <th>Married</th>\n",
       "      <th>Dependents</th>\n",
       "      <th>Education</th>\n",
       "      <th>Self_Employed</th>\n",
       "      <th>ApplicantIncome</th>\n",
       "      <th>CoapplicantIncome</th>\n",
       "      <th>LoanAmount</th>\n",
       "      <th>Loan_Amount_Term</th>\n",
       "      <th>Credit_History</th>\n",
       "      <th>Property_Area</th>\n",
       "    </tr>\n",
       "  </thead>\n",
       "  <tbody>\n",
       "    <tr>\n",
       "      <th>0</th>\n",
       "      <td>LP001015</td>\n",
       "      <td>Male</td>\n",
       "      <td>Yes</td>\n",
       "      <td>0</td>\n",
       "      <td>Graduate</td>\n",
       "      <td>No</td>\n",
       "      <td>5720</td>\n",
       "      <td>0</td>\n",
       "      <td>110.0</td>\n",
       "      <td>360.0</td>\n",
       "      <td>1.0</td>\n",
       "      <td>Urban</td>\n",
       "    </tr>\n",
       "    <tr>\n",
       "      <th>1</th>\n",
       "      <td>LP001022</td>\n",
       "      <td>Male</td>\n",
       "      <td>Yes</td>\n",
       "      <td>1</td>\n",
       "      <td>Graduate</td>\n",
       "      <td>No</td>\n",
       "      <td>3076</td>\n",
       "      <td>1500</td>\n",
       "      <td>126.0</td>\n",
       "      <td>360.0</td>\n",
       "      <td>1.0</td>\n",
       "      <td>Urban</td>\n",
       "    </tr>\n",
       "    <tr>\n",
       "      <th>2</th>\n",
       "      <td>LP001031</td>\n",
       "      <td>Male</td>\n",
       "      <td>Yes</td>\n",
       "      <td>2</td>\n",
       "      <td>Graduate</td>\n",
       "      <td>No</td>\n",
       "      <td>5000</td>\n",
       "      <td>1800</td>\n",
       "      <td>208.0</td>\n",
       "      <td>360.0</td>\n",
       "      <td>1.0</td>\n",
       "      <td>Urban</td>\n",
       "    </tr>\n",
       "    <tr>\n",
       "      <th>3</th>\n",
       "      <td>LP001035</td>\n",
       "      <td>Male</td>\n",
       "      <td>Yes</td>\n",
       "      <td>2</td>\n",
       "      <td>Graduate</td>\n",
       "      <td>No</td>\n",
       "      <td>2340</td>\n",
       "      <td>2546</td>\n",
       "      <td>100.0</td>\n",
       "      <td>360.0</td>\n",
       "      <td>NaN</td>\n",
       "      <td>Urban</td>\n",
       "    </tr>\n",
       "    <tr>\n",
       "      <th>4</th>\n",
       "      <td>LP001051</td>\n",
       "      <td>Male</td>\n",
       "      <td>No</td>\n",
       "      <td>0</td>\n",
       "      <td>Not Graduate</td>\n",
       "      <td>No</td>\n",
       "      <td>3276</td>\n",
       "      <td>0</td>\n",
       "      <td>78.0</td>\n",
       "      <td>360.0</td>\n",
       "      <td>1.0</td>\n",
       "      <td>Urban</td>\n",
       "    </tr>\n",
       "    <tr>\n",
       "      <th>...</th>\n",
       "      <td>...</td>\n",
       "      <td>...</td>\n",
       "      <td>...</td>\n",
       "      <td>...</td>\n",
       "      <td>...</td>\n",
       "      <td>...</td>\n",
       "      <td>...</td>\n",
       "      <td>...</td>\n",
       "      <td>...</td>\n",
       "      <td>...</td>\n",
       "      <td>...</td>\n",
       "      <td>...</td>\n",
       "    </tr>\n",
       "    <tr>\n",
       "      <th>362</th>\n",
       "      <td>LP002971</td>\n",
       "      <td>Male</td>\n",
       "      <td>Yes</td>\n",
       "      <td>3+</td>\n",
       "      <td>Not Graduate</td>\n",
       "      <td>Yes</td>\n",
       "      <td>4009</td>\n",
       "      <td>1777</td>\n",
       "      <td>113.0</td>\n",
       "      <td>360.0</td>\n",
       "      <td>1.0</td>\n",
       "      <td>Urban</td>\n",
       "    </tr>\n",
       "    <tr>\n",
       "      <th>363</th>\n",
       "      <td>LP002975</td>\n",
       "      <td>Male</td>\n",
       "      <td>Yes</td>\n",
       "      <td>0</td>\n",
       "      <td>Graduate</td>\n",
       "      <td>No</td>\n",
       "      <td>4158</td>\n",
       "      <td>709</td>\n",
       "      <td>115.0</td>\n",
       "      <td>360.0</td>\n",
       "      <td>1.0</td>\n",
       "      <td>Urban</td>\n",
       "    </tr>\n",
       "    <tr>\n",
       "      <th>364</th>\n",
       "      <td>LP002980</td>\n",
       "      <td>Male</td>\n",
       "      <td>No</td>\n",
       "      <td>0</td>\n",
       "      <td>Graduate</td>\n",
       "      <td>No</td>\n",
       "      <td>3250</td>\n",
       "      <td>1993</td>\n",
       "      <td>126.0</td>\n",
       "      <td>360.0</td>\n",
       "      <td>NaN</td>\n",
       "      <td>Semiurban</td>\n",
       "    </tr>\n",
       "    <tr>\n",
       "      <th>365</th>\n",
       "      <td>LP002986</td>\n",
       "      <td>Male</td>\n",
       "      <td>Yes</td>\n",
       "      <td>0</td>\n",
       "      <td>Graduate</td>\n",
       "      <td>No</td>\n",
       "      <td>5000</td>\n",
       "      <td>2393</td>\n",
       "      <td>158.0</td>\n",
       "      <td>360.0</td>\n",
       "      <td>1.0</td>\n",
       "      <td>Rural</td>\n",
       "    </tr>\n",
       "    <tr>\n",
       "      <th>366</th>\n",
       "      <td>LP002989</td>\n",
       "      <td>Male</td>\n",
       "      <td>No</td>\n",
       "      <td>0</td>\n",
       "      <td>Graduate</td>\n",
       "      <td>Yes</td>\n",
       "      <td>9200</td>\n",
       "      <td>0</td>\n",
       "      <td>98.0</td>\n",
       "      <td>180.0</td>\n",
       "      <td>1.0</td>\n",
       "      <td>Rural</td>\n",
       "    </tr>\n",
       "  </tbody>\n",
       "</table>\n",
       "<p>367 rows × 12 columns</p>\n",
       "</div>"
      ],
      "text/plain": [
       "      Loan_ID Gender Married Dependents     Education Self_Employed  \\\n",
       "0    LP001015   Male     Yes          0      Graduate            No   \n",
       "1    LP001022   Male     Yes          1      Graduate            No   \n",
       "2    LP001031   Male     Yes          2      Graduate            No   \n",
       "3    LP001035   Male     Yes          2      Graduate            No   \n",
       "4    LP001051   Male      No          0  Not Graduate            No   \n",
       "..        ...    ...     ...        ...           ...           ...   \n",
       "362  LP002971   Male     Yes         3+  Not Graduate           Yes   \n",
       "363  LP002975   Male     Yes          0      Graduate            No   \n",
       "364  LP002980   Male      No          0      Graduate            No   \n",
       "365  LP002986   Male     Yes          0      Graduate            No   \n",
       "366  LP002989   Male      No          0      Graduate           Yes   \n",
       "\n",
       "     ApplicantIncome  CoapplicantIncome  LoanAmount  Loan_Amount_Term  \\\n",
       "0               5720                  0       110.0             360.0   \n",
       "1               3076               1500       126.0             360.0   \n",
       "2               5000               1800       208.0             360.0   \n",
       "3               2340               2546       100.0             360.0   \n",
       "4               3276                  0        78.0             360.0   \n",
       "..               ...                ...         ...               ...   \n",
       "362             4009               1777       113.0             360.0   \n",
       "363             4158                709       115.0             360.0   \n",
       "364             3250               1993       126.0             360.0   \n",
       "365             5000               2393       158.0             360.0   \n",
       "366             9200                  0        98.0             180.0   \n",
       "\n",
       "     Credit_History Property_Area  \n",
       "0               1.0         Urban  \n",
       "1               1.0         Urban  \n",
       "2               1.0         Urban  \n",
       "3               NaN         Urban  \n",
       "4               1.0         Urban  \n",
       "..              ...           ...  \n",
       "362             1.0         Urban  \n",
       "363             1.0         Urban  \n",
       "364             NaN     Semiurban  \n",
       "365             1.0         Rural  \n",
       "366             1.0         Rural  \n",
       "\n",
       "[367 rows x 12 columns]"
      ]
     },
     "execution_count": 4,
     "metadata": {},
     "output_type": "execute_result"
    }
   ],
   "source": [
    "test"
   ]
  },
  {
   "cell_type": "code",
   "execution_count": 5,
   "id": "8c061e13",
   "metadata": {},
   "outputs": [
    {
     "name": "stdout",
     "output_type": "stream",
     "text": [
      "<class 'pandas.core.frame.DataFrame'>\n",
      "RangeIndex: 614 entries, 0 to 613\n",
      "Data columns (total 13 columns):\n",
      " #   Column             Non-Null Count  Dtype  \n",
      "---  ------             --------------  -----  \n",
      " 0   Loan_ID            614 non-null    object \n",
      " 1   Gender             601 non-null    object \n",
      " 2   Married            611 non-null    object \n",
      " 3   Dependents         599 non-null    object \n",
      " 4   Education          614 non-null    object \n",
      " 5   Self_Employed      582 non-null    object \n",
      " 6   ApplicantIncome    614 non-null    int64  \n",
      " 7   CoapplicantIncome  614 non-null    float64\n",
      " 8   LoanAmount         592 non-null    float64\n",
      " 9   Loan_Amount_Term   600 non-null    float64\n",
      " 10  Credit_History     564 non-null    float64\n",
      " 11  Property_Area      614 non-null    object \n",
      " 12  Loan_Status        614 non-null    object \n",
      "dtypes: float64(4), int64(1), object(8)\n",
      "memory usage: 62.5+ KB\n"
     ]
    }
   ],
   "source": [
    "train.info()"
   ]
  },
  {
   "cell_type": "code",
   "execution_count": 6,
   "id": "be05d35a",
   "metadata": {},
   "outputs": [
    {
     "name": "stdout",
     "output_type": "stream",
     "text": [
      "<class 'pandas.core.frame.DataFrame'>\n",
      "RangeIndex: 367 entries, 0 to 366\n",
      "Data columns (total 12 columns):\n",
      " #   Column             Non-Null Count  Dtype  \n",
      "---  ------             --------------  -----  \n",
      " 0   Loan_ID            367 non-null    object \n",
      " 1   Gender             356 non-null    object \n",
      " 2   Married            367 non-null    object \n",
      " 3   Dependents         357 non-null    object \n",
      " 4   Education          367 non-null    object \n",
      " 5   Self_Employed      344 non-null    object \n",
      " 6   ApplicantIncome    367 non-null    int64  \n",
      " 7   CoapplicantIncome  367 non-null    int64  \n",
      " 8   LoanAmount         362 non-null    float64\n",
      " 9   Loan_Amount_Term   361 non-null    float64\n",
      " 10  Credit_History     338 non-null    float64\n",
      " 11  Property_Area      367 non-null    object \n",
      "dtypes: float64(3), int64(2), object(7)\n",
      "memory usage: 34.5+ KB\n"
     ]
    }
   ],
   "source": [
    "test.info()"
   ]
  },
  {
   "cell_type": "code",
   "execution_count": 7,
   "id": "3cf76208",
   "metadata": {},
   "outputs": [
    {
     "data": {
      "image/png": "[encoded data removed]",
      "text/plain": [
       "<Figure size 640x480 with 1 Axes>"
      ]
     },
     "metadata": {},
     "output_type": "display_data"
    }
   ],
   "source": [
    "sns.barplot(x=train.Gender,y=train.LoanAmount,hue=train.Married)\n",
    "plt.show()"
   ]
  },
  {
   "cell_type": "markdown",
   "id": "d0dc7a60",
   "metadata": {},
   "source": [
    "OBSERVATIONS: Married people are applied for high Loan amount than unmarried people. Also male applicants prefer high loan amount than female applicants."
   ]
  },
  {
   "cell_type": "code",
   "execution_count": 8,
   "id": "ede40710",
   "metadata": {},
   "outputs": [
    {
     "data": {
      "image/png": "[encoded data removed]",
      "text/plain": [
       "<Figure size 640x480 with 1 Axes>"
      ]
     },
     "metadata": {},
     "output_type": "display_data"
    }
   ],
   "source": [
    "df1=train['Education'].value_counts()\n",
    "plt.pie(df1,labels=df1.index,autopct='%1.1f%%')\n",
    "plt.show()"
   ]
  },
  {
   "cell_type": "markdown",
   "id": "0dbf5df9",
   "metadata": {},
   "source": [
    "OBSERVATION: Graduate applicants are more in number than non-Graduate applicants."
   ]
  },
  {
   "cell_type": "code",
   "execution_count": 9,
   "id": "68def484",
   "metadata": {},
   "outputs": [
    {
     "data": {
      "image/png": "[encoded data removed]",
      "text/plain": [
       "<Figure size 640x480 with 1 Axes>"
      ]
     },
     "metadata": {},
     "output_type": "display_data"
    }
   ],
   "source": [
    "df1=train['Property_Area'].value_counts()\n",
    "plt.pie(df1,labels=df1.index,autopct='%1.1f%%')\n",
    "plt.show()"
   ]
  },
  {
   "cell_type": "markdown",
   "id": "ee423d3d",
   "metadata": {},
   "source": [
    "OBSERVATION: Applicants from Semiurban area and Urban area are more in number than Rural area applicants."
   ]
  },
  {
   "cell_type": "code",
   "execution_count": 10,
   "id": "fb6a647b",
   "metadata": {},
   "outputs": [
    {
     "data": {
      "image/png": "[encoded data removed]",
      "text/plain": [
       "<Figure size 640x480 with 1 Axes>"
      ]
     },
     "metadata": {},
     "output_type": "display_data"
    }
   ],
   "source": [
    "df1=train['Self_Employed'].value_counts()\n",
    "plt.pie(df1,labels=df1.index,autopct='%1.1f%%')\n",
    "plt.show()"
   ]
  },
  {
   "cell_type": "markdown",
   "id": "b0065e54",
   "metadata": {},
   "source": [
    "OBSERVATION: Self employed applicants are very less compared to other applicants."
   ]
  },
  {
   "cell_type": "markdown",
   "id": "62ec3c17",
   "metadata": {},
   "source": [
    "# Pre - Processing"
   ]
  },
  {
   "cell_type": "code",
   "execution_count": 11,
   "id": "79212d8c",
   "metadata": {},
   "outputs": [
    {
     "data": {
      "text/plain": [
       "614"
      ]
     },
     "execution_count": 11,
     "metadata": {},
     "output_type": "execute_result"
    }
   ],
   "source": [
    "train['Loan_ID'].nunique()"
   ]
  },
  {
   "cell_type": "code",
   "execution_count": 12,
   "id": "c033a706",
   "metadata": {},
   "outputs": [
    {
     "data": {
      "text/plain": [
       "367"
      ]
     },
     "execution_count": 12,
     "metadata": {},
     "output_type": "execute_result"
    }
   ],
   "source": [
    "test['Loan_ID'].nunique()"
   ]
  },
  {
   "cell_type": "code",
   "execution_count": 13,
   "id": "1cbe8f80",
   "metadata": {},
   "outputs": [],
   "source": [
    "train.drop('Loan_ID',axis=1,inplace=True)\n",
    "test.drop('Loan_ID',axis=1,inplace=True)"
   ]
  },
  {
   "cell_type": "markdown",
   "id": "1b6cffb4",
   "metadata": {},
   "source": [
    "### Check for null values"
   ]
  },
  {
   "cell_type": "code",
   "execution_count": 14,
   "id": "b7e94a6f",
   "metadata": {},
   "outputs": [
    {
     "data": {
      "text/plain": [
       "Gender               13\n",
       "Married               3\n",
       "Dependents           15\n",
       "Education             0\n",
       "Self_Employed        32\n",
       "ApplicantIncome       0\n",
       "CoapplicantIncome     0\n",
       "LoanAmount           22\n",
       "Loan_Amount_Term     14\n",
       "Credit_History       50\n",
       "Property_Area         0\n",
       "Loan_Status           0\n",
       "dtype: int64"
      ]
     },
     "execution_count": 14,
     "metadata": {},
     "output_type": "execute_result"
    }
   ],
   "source": [
    "train.isnull().sum()"
   ]
  },
  {
   "cell_type": "code",
   "execution_count": 15,
   "id": "2c1ce067",
   "metadata": {},
   "outputs": [
    {
     "data": {
      "text/plain": [
       "Gender               11\n",
       "Married               0\n",
       "Dependents           10\n",
       "Education             0\n",
       "Self_Employed        23\n",
       "ApplicantIncome       0\n",
       "CoapplicantIncome     0\n",
       "LoanAmount            5\n",
       "Loan_Amount_Term      6\n",
       "Credit_History       29\n",
       "Property_Area         0\n",
       "dtype: int64"
      ]
     },
     "execution_count": 15,
     "metadata": {},
     "output_type": "execute_result"
    }
   ],
   "source": [
    "test.isnull().sum()"
   ]
  },
  {
   "cell_type": "markdown",
   "id": "fbb8bb4d",
   "metadata": {},
   "source": [
    "### Null value imputation"
   ]
  },
  {
   "cell_type": "code",
   "execution_count": 16,
   "id": "42e33a76",
   "metadata": {},
   "outputs": [],
   "source": [
    "for i in ['Gender','Married','Dependents','Self_Employed']:\n",
    "    train[i]=train[i].fillna(train[i].mode()[0])"
   ]
  },
  {
   "cell_type": "code",
   "execution_count": 17,
   "id": "32d1560d",
   "metadata": {},
   "outputs": [
    {
     "name": "stdout",
     "output_type": "stream",
     "text": [
      "Skewness value of column LoanAmount = 2.677551679256059\n",
      "Skewness value of column Loan_Amount_Term = -2.362414124216269\n",
      "Skewness value of column Credit_History = -1.8823610612186696\n"
     ]
    }
   ],
   "source": [
    "for i in ['LoanAmount','Loan_Amount_Term','Credit_History']:\n",
    "    print('Skewness value of column', i ,'=', train[i].skew())  "
   ]
  },
  {
   "cell_type": "code",
   "execution_count": 18,
   "id": "23e56905",
   "metadata": {},
   "outputs": [],
   "source": [
    "for i in ['LoanAmount','Loan_Amount_Term','Credit_History']:\n",
    "    train[i]=train[i].fillna(train[i].median())"
   ]
  },
  {
   "cell_type": "code",
   "execution_count": 19,
   "id": "b232db90",
   "metadata": {},
   "outputs": [],
   "source": [
    "for i in ['Gender','Dependents','Self_Employed']:\n",
    "    test[i]=test[i].fillna(test[i].mode()[0])"
   ]
  },
  {
   "cell_type": "code",
   "execution_count": 20,
   "id": "604dc1bb",
   "metadata": {},
   "outputs": [
    {
     "name": "stdout",
     "output_type": "stream",
     "text": [
      "Skewness value of column LoanAmount = 2.223512207498288\n",
      "Skewness value of column Loan_Amount_Term = -2.679317770196837\n",
      "Skewness value of column Credit_History = -1.722378503506142\n"
     ]
    }
   ],
   "source": [
    "for i in ['LoanAmount','Loan_Amount_Term','Credit_History']:\n",
    "    print('Skewness value of column', i ,'=', test[i].skew()) "
   ]
  },
  {
   "cell_type": "code",
   "execution_count": 21,
   "id": "9511950b",
   "metadata": {},
   "outputs": [],
   "source": [
    "for i in ['LoanAmount','Loan_Amount_Term','Credit_History']:\n",
    "    test[i]=test[i].fillna(test[i].median())"
   ]
  },
  {
   "cell_type": "markdown",
   "id": "905f9e83",
   "metadata": {},
   "source": [
    "### Check again for null values"
   ]
  },
  {
   "cell_type": "code",
   "execution_count": 22,
   "id": "2c1b7835",
   "metadata": {},
   "outputs": [
    {
     "data": {
      "text/plain": [
       "Gender               0\n",
       "Married              0\n",
       "Dependents           0\n",
       "Education            0\n",
       "Self_Employed        0\n",
       "ApplicantIncome      0\n",
       "CoapplicantIncome    0\n",
       "LoanAmount           0\n",
       "Loan_Amount_Term     0\n",
       "Credit_History       0\n",
       "Property_Area        0\n",
       "Loan_Status          0\n",
       "dtype: int64"
      ]
     },
     "execution_count": 22,
     "metadata": {},
     "output_type": "execute_result"
    }
   ],
   "source": [
    "train.isnull().sum()"
   ]
  },
  {
   "cell_type": "code",
   "execution_count": 23,
   "id": "3d397085",
   "metadata": {},
   "outputs": [
    {
     "data": {
      "text/plain": [
       "Gender               0\n",
       "Married              0\n",
       "Dependents           0\n",
       "Education            0\n",
       "Self_Employed        0\n",
       "ApplicantIncome      0\n",
       "CoapplicantIncome    0\n",
       "LoanAmount           0\n",
       "Loan_Amount_Term     0\n",
       "Credit_History       0\n",
       "Property_Area        0\n",
       "dtype: int64"
      ]
     },
     "execution_count": 23,
     "metadata": {},
     "output_type": "execute_result"
    }
   ],
   "source": [
    "test.isnull().sum()"
   ]
  },
  {
   "cell_type": "markdown",
   "id": "8e9b3d4f",
   "metadata": {},
   "source": [
    "### Boxplot for checking outliers"
   ]
  },
  {
   "cell_type": "code",
   "execution_count": 24,
   "id": "8c14372a",
   "metadata": {},
   "outputs": [
    {
     "data": {
      "image/png": "[encoded data removed]",
      "text/plain": [
       "<Figure size 640x480 with 1 Axes>"
      ]
     },
     "metadata": {},
     "output_type": "display_data"
    }
   ],
   "source": [
    "sns.boxplot(train[['ApplicantIncome','CoapplicantIncome','LoanAmount']])\n",
    "plt.xticks(rotation=90)\n",
    "plt.show()"
   ]
  },
  {
   "cell_type": "code",
   "execution_count": 25,
   "id": "2b5bc253",
   "metadata": {},
   "outputs": [
    {
     "name": "stdout",
     "output_type": "stream",
     "text": [
      "Skewness value of column ApplicantIncome = 6.539513113994625\n",
      "Skewness value of column CoapplicantIncome = 7.491531216657306\n"
     ]
    }
   ],
   "source": [
    "for i in ['ApplicantIncome','CoapplicantIncome']:\n",
    "    print('Skewness value of column', i ,'=', train[i].skew())"
   ]
  },
  {
   "cell_type": "code",
   "execution_count": 26,
   "id": "8678dd0f",
   "metadata": {},
   "outputs": [
    {
     "data": {
      "image/png": "[encoded data removed]",
      "text/plain": [
       "<Figure size 640x480 with 1 Axes>"
      ]
     },
     "metadata": {},
     "output_type": "display_data"
    }
   ],
   "source": [
    "sns.boxplot(test[['ApplicantIncome','CoapplicantIncome','LoanAmount']])\n",
    "plt.xticks(rotation=90)\n",
    "plt.show()"
   ]
  },
  {
   "cell_type": "code",
   "execution_count": 27,
   "id": "63da2f8f",
   "metadata": {},
   "outputs": [
    {
     "name": "stdout",
     "output_type": "stream",
     "text": [
      "Skewness value of column ApplicantIncome = 8.441374954190996\n",
      "Skewness value of column CoapplicantIncome = 4.257356934477602\n"
     ]
    }
   ],
   "source": [
    "for i in ['ApplicantIncome','CoapplicantIncome']:\n",
    "    print('Skewness value of column', i ,'=', test[i].skew())"
   ]
  },
  {
   "cell_type": "markdown",
   "id": "77d4bc76",
   "metadata": {},
   "source": [
    "###  IQR method for outlier detection and clip function for outlier handling"
   ]
  },
  {
   "cell_type": "code",
   "execution_count": 28,
   "id": "06103bf2",
   "metadata": {},
   "outputs": [],
   "source": [
    "for i in ['ApplicantIncome','CoapplicantIncome','LoanAmount']:\n",
    "    Q1=np.percentile(train[i],25,method='midpoint')\n",
    "    Q3=np.percentile(train[i],75,method='midpoint')\n",
    "    IQR=Q3-Q1\n",
    "    low_lim=Q1-1.5*IQR\n",
    "    up_lim=Q3+1.5*IQR\n",
    "    outliers=[]\n",
    "    for j in train[i]:\n",
    "        if ((j < low_lim) | (j > up_lim)):\n",
    "            outliers.append(j)    \n",
    "    train[i]=train[i].clip(lower=low_lim,upper=up_lim) "
   ]
  },
  {
   "cell_type": "code",
   "execution_count": 29,
   "id": "a8423908",
   "metadata": {},
   "outputs": [],
   "source": [
    "for i in ['ApplicantIncome','CoapplicantIncome','LoanAmount']:\n",
    "    Q1=np.percentile(test[i],25,method='midpoint')\n",
    "    Q3=np.percentile(test[i],75,method='midpoint')\n",
    "    IQR=Q3-Q1\n",
    "    low_lim=Q1-1.5*IQR\n",
    "    up_lim=Q3+1.5*IQR\n",
    "    outliers=[]\n",
    "    for j in test[i]:\n",
    "        if ((j < low_lim) | (j > up_lim)):\n",
    "            outliers.append(j)    \n",
    "    test[i]=test[i].clip(lower=low_lim,upper=up_lim) "
   ]
  },
  {
   "cell_type": "markdown",
   "id": "438a3f89",
   "metadata": {},
   "source": [
    "### Boxplot for checking outliers again"
   ]
  },
  {
   "cell_type": "code",
   "execution_count": 30,
   "id": "b54ddc39",
   "metadata": {},
   "outputs": [
    {
     "data": {
      "image/png": "[encoded data removed]",
      "text/plain": [
       "<Figure size 640x480 with 1 Axes>"
      ]
     },
     "metadata": {},
     "output_type": "display_data"
    }
   ],
   "source": [
    "sns.boxplot(train[['ApplicantIncome','CoapplicantIncome','LoanAmount']])\n",
    "plt.xticks(rotation=90)\n",
    "plt.show()"
   ]
  },
  {
   "cell_type": "code",
   "execution_count": 31,
   "id": "65ff5722",
   "metadata": {},
   "outputs": [
    {
     "data": {
      "image/png": "[encoded data removed]",
      "text/plain": [
       "<Figure size 640x480 with 1 Axes>"
      ]
     },
     "metadata": {},
     "output_type": "display_data"
    }
   ],
   "source": [
    "sns.boxplot(test[['ApplicantIncome','CoapplicantIncome','LoanAmount']])\n",
    "plt.xticks(rotation=90)\n",
    "plt.show()"
   ]
  },
  {
   "cell_type": "markdown",
   "id": "b63dcd89",
   "metadata": {},
   "source": [
    "### Correlation"
   ]
  },
  {
   "cell_type": "code",
   "execution_count": 32,
   "id": "6961941a",
   "metadata": {},
   "outputs": [
    {
     "data": {
      "image/png": "[encoded data removed]",
      "text/plain": [
       "<Figure size 500x500 with 2 Axes>"
      ]
     },
     "metadata": {},
     "output_type": "display_data"
    }
   ],
   "source": [
    "mat=train.select_dtypes(['int64','float64']).corr()\n",
    "plt.subplots(figsize=(5,5))\n",
    "sns.heatmap(mat,annot=True)\n",
    "plt.show()"
   ]
  },
  {
   "cell_type": "code",
   "execution_count": 33,
   "id": "e5933296",
   "metadata": {},
   "outputs": [
    {
     "data": {
      "image/png": "[encoded data removed]",
      "text/plain": [
       "<Figure size 500x500 with 2 Axes>"
      ]
     },
     "metadata": {},
     "output_type": "display_data"
    }
   ],
   "source": [
    "mat=test.select_dtypes(['int64','float64']).corr()\n",
    "plt.subplots(figsize=(5,5))\n",
    "sns.heatmap(mat,annot=True)\n",
    "plt.show()"
   ]
  },
  {
   "cell_type": "markdown",
   "id": "fb0db693",
   "metadata": {},
   "source": [
    "### Label encoding"
   ]
  },
  {
   "cell_type": "code",
   "execution_count": 34,
   "id": "c7b014bc",
   "metadata": {
    "scrolled": true
   },
   "outputs": [],
   "source": [
    "le=LabelEncoder()\n",
    "for i in ['Gender','Married','Dependents','Self_Employed','Education','Property_Area','Loan_Status']:\n",
    "    train[i]=le.fit_transform(train[i])"
   ]
  },
  {
   "cell_type": "code",
   "execution_count": 35,
   "id": "fa9e009d",
   "metadata": {},
   "outputs": [],
   "source": [
    "for i in ['Gender','Married','Dependents','Self_Employed','Education','Property_Area']:\n",
    "    test[i]=le.fit_transform(test[i])"
   ]
  },
  {
   "cell_type": "markdown",
   "id": "398fce42",
   "metadata": {},
   "source": [
    "# Modelling"
   ]
  },
  {
   "cell_type": "markdown",
   "id": "c2ff23db",
   "metadata": {},
   "source": [
    "First, train data with our train dataset and evaluate model with train data itself. Then predict using test dataset with the best model got."
   ]
  },
  {
   "cell_type": "markdown",
   "id": "ade9e33b",
   "metadata": {},
   "source": [
    "Differentiate x,y and split x_train,y_train,x_test,y_test"
   ]
  },
  {
   "cell_type": "code",
   "execution_count": 36,
   "id": "7a7083f2",
   "metadata": {},
   "outputs": [],
   "source": [
    "x=train.drop('Loan_Status',axis=1)\n",
    "y=train['Loan_Status'].values.reshape(-1,1)\n",
    "x_train,x_test,y_train,y_test=train_test_split(x,y,random_state=42,test_size=0.2)"
   ]
  },
  {
   "cell_type": "markdown",
   "id": "cf90ae14",
   "metadata": {},
   "source": [
    "### Standard scaling"
   ]
  },
  {
   "cell_type": "code",
   "execution_count": 37,
   "id": "a35fba48",
   "metadata": {},
   "outputs": [],
   "source": [
    "sc=StandardScaler()\n",
    "x_train_sc=sc.fit_transform(x_train)\n",
    "x_test_sc=sc.fit_transform(x_test)"
   ]
  },
  {
   "cell_type": "markdown",
   "id": "49ce5bdd",
   "metadata": {},
   "source": [
    "## Logistic Regression"
   ]
  },
  {
   "cell_type": "code",
   "execution_count": 38,
   "id": "e4da3244",
   "metadata": {},
   "outputs": [
    {
     "name": "stdout",
     "output_type": "stream",
     "text": [
      "Accuracy of Logistic Regression 0.814663951120163\n",
      "Precision of Logistic Regression 0.7980997624703088\n",
      "Recall of Logistic Regression: 0.9824561403508771\n",
      "F1 score of Logistic Regression 0.8807339449541285\n"
     ]
    }
   ],
   "source": [
    "log_reg=LogisticRegression()\n",
    "log_reg.fit(x_train_sc,y_train)\n",
    "log_reg_pred=log_reg.predict(x_train_sc)\n",
    "print('Accuracy of Logistic Regression', accuracy_score(y_train,log_reg_pred))\n",
    "print('Precision of Logistic Regression', precision_score(y_train,log_reg_pred))\n",
    "print('Recall of Logistic Regression:',recall_score(y_train,log_reg_pred))\n",
    "print('F1 score of Logistic Regression', f1_score(y_train,log_reg_pred))"
   ]
  },
  {
   "cell_type": "markdown",
   "id": "3119af10",
   "metadata": {},
   "source": [
    "## KNN"
   ]
  },
  {
   "cell_type": "code",
   "execution_count": 39,
   "id": "1201bcf8",
   "metadata": {},
   "outputs": [
    {
     "name": "stdout",
     "output_type": "stream",
     "text": [
      "Accuracy of KNN Classifier 0.8268839103869654\n",
      "Precision of KNN Classifier 0.8204488778054863\n",
      "Recall of KNN Classifier: 0.9619883040935673\n",
      "F1 score of KNN Classifier 0.8855989232839839\n"
     ]
    }
   ],
   "source": [
    "classifier=KNeighborsClassifier()\n",
    "classifier.fit(x_train_sc,y_train)\n",
    "knn_pred=classifier.predict(x_train_sc)\n",
    "print('Accuracy of KNN Classifier', accuracy_score(y_train,knn_pred))\n",
    "print('Precision of KNN Classifier', precision_score(y_train,knn_pred))\n",
    "print('Recall of KNN Classifier:',recall_score(y_train,knn_pred))\n",
    "print('F1 score of KNN Classifier', f1_score(y_train,knn_pred))"
   ]
  },
  {
   "cell_type": "markdown",
   "id": "249783c4",
   "metadata": {},
   "source": [
    "## SVM"
   ]
  },
  {
   "cell_type": "code",
   "execution_count": 40,
   "id": "5aa904fa",
   "metadata": {},
   "outputs": [
    {
     "name": "stdout",
     "output_type": "stream",
     "text": [
      "Accuracy of SVM Classifier 0.8289205702647657\n",
      "Precision of SVM Classifier 0.8115942028985508\n",
      "Recall of SVM Classifier: 0.9824561403508771\n",
      "F1 score of SVM Classifier 0.888888888888889\n"
     ]
    }
   ],
   "source": [
    "sv_clf=SVC()\n",
    "sv_clf.fit(x_train_sc,y_train)\n",
    "svm_pred=sv_clf.predict(x_train_sc)\n",
    "print('Accuracy of SVM Classifier', accuracy_score(y_train,svm_pred))\n",
    "print('Precision of SVM Classifier', precision_score(y_train,svm_pred))\n",
    "print('Recall of SVM Classifier:',recall_score(y_train,svm_pred))\n",
    "print('F1 score of SVM Classifier', f1_score(y_train,svm_pred))"
   ]
  },
  {
   "cell_type": "markdown",
   "id": "c8afcfe4",
   "metadata": {},
   "source": [
    "## Decision Tree"
   ]
  },
  {
   "cell_type": "code",
   "execution_count": 41,
   "id": "68073887",
   "metadata": {},
   "outputs": [
    {
     "name": "stdout",
     "output_type": "stream",
     "text": [
      "Accuracy of Decision Tree Classifier 0.9979633401221996\n",
      "Precision of Decision Tree Classifier 1.0\n",
      "Recall of Decision Tree Classifier: 0.9970760233918129\n",
      "F1 score of Decision Tree Classifier 0.9985358711566619\n"
     ]
    }
   ],
   "source": [
    "dt_clf=DecisionTreeClassifier()\n",
    "dt_clf.fit(x_train_sc,y_train)\n",
    "dt_pred=dt_clf.predict(x_train_sc)\n",
    "print('Accuracy of Decision Tree Classifier', accuracy_score(y_train,dt_pred))\n",
    "print('Precision of Decision Tree Classifier', precision_score(y_train,dt_pred))\n",
    "print('Recall of Decision Tree Classifier:',recall_score(y_train,dt_pred))\n",
    "print('F1 score of Decision Tree Classifier', f1_score(y_train,dt_pred))"
   ]
  },
  {
   "cell_type": "markdown",
   "id": "9dc77ad2",
   "metadata": {},
   "source": [
    "## Random Forest"
   ]
  },
  {
   "cell_type": "code",
   "execution_count": 42,
   "id": "a2f54671",
   "metadata": {},
   "outputs": [
    {
     "name": "stdout",
     "output_type": "stream",
     "text": [
      "Accuracy of Random Forest Classifier 0.9979633401221996\n",
      "Precision of Random Forest Classifier 0.9970845481049563\n",
      "Recall of Random Forest Classifier: 1.0\n",
      "F1 score of Random Forest Classifier 0.9985401459854015\n"
     ]
    }
   ],
   "source": [
    "rf_clf=RandomForestClassifier()\n",
    "rf_clf.fit(x_train_sc,y_train)\n",
    "rf_pred=rf_clf.predict(x_train_sc)\n",
    "print('Accuracy of Random Forest Classifier', accuracy_score(y_train,rf_pred))\n",
    "print('Precision of Random Forest Classifier', precision_score(y_train,rf_pred))\n",
    "print('Recall of Random Forest Classifier:',recall_score(y_train,rf_pred))\n",
    "print('F1 score of Random Forest Classifier', f1_score(y_train,rf_pred))"
   ]
  },
  {
   "cell_type": "markdown",
   "id": "9800970a",
   "metadata": {},
   "source": [
    "# Hyper Parameter Tuning"
   ]
  },
  {
   "cell_type": "markdown",
   "id": "042fb079",
   "metadata": {},
   "source": [
    "## Logistic Regression"
   ]
  },
  {
   "cell_type": "code",
   "execution_count": 43,
   "id": "02d422ba",
   "metadata": {},
   "outputs": [
    {
     "name": "stdout",
     "output_type": "stream",
     "text": [
      "Accuracy of Logistic Regression 0.814663951120163\n",
      "Precision of Logistic Regression 0.7980997624703088\n",
      "Recall of Logistic Regression: 0.9824561403508771\n",
      "F1 score of Logistic Regression 0.8807339449541285\n"
     ]
    }
   ],
   "source": [
    "log_reg1=LogisticRegression(solver='liblinear')\n",
    "log_reg1.fit(x_train_sc,y_train)\n",
    "log_reg1_pred=log_reg.predict(x_train_sc)\n",
    "log_reg1=LogisticRegression()\n",
    "log_reg1.fit(x_train_sc,y_train)\n",
    "log_reg1_pred=log_reg1.predict(x_train_sc)\n",
    "print('Accuracy of Logistic Regression', accuracy_score(y_train,log_reg1_pred))\n",
    "print('Precision of Logistic Regression', precision_score(y_train,log_reg1_pred))\n",
    "print('Recall of Logistic Regression:',recall_score(y_train,log_reg1_pred))\n",
    "print('F1 score of Logistic Regression', f1_score(y_train,log_reg1_pred))"
   ]
  },
  {
   "cell_type": "markdown",
   "id": "255a4707",
   "metadata": {},
   "source": [
    "## KNN"
   ]
  },
  {
   "cell_type": "code",
   "execution_count": 44,
   "id": "79c7780d",
   "metadata": {},
   "outputs": [
    {
     "name": "stdout",
     "output_type": "stream",
     "text": [
      "Accuracy of KNN Classifier 0.8533604887983707\n",
      "Precision of KNN Classifier 0.8534031413612565\n",
      "Recall of KNN Classifier: 0.9532163742690059\n",
      "F1 score of KNN Classifier 0.9005524861878452\n"
     ]
    }
   ],
   "source": [
    "classifier1=KNeighborsClassifier(n_neighbors=3)\n",
    "classifier1.fit(x_train_sc,y_train)\n",
    "knn_pred1=classifier1.predict(x_train_sc)\n",
    "print('Accuracy of KNN Classifier', accuracy_score(y_train,knn_pred1))\n",
    "print('Precision of KNN Classifier', precision_score(y_train,knn_pred1))\n",
    "print('Recall of KNN Classifier:',recall_score(y_train,knn_pred1))\n",
    "print('F1 score of KNN Classifier', f1_score(y_train,knn_pred1))"
   ]
  },
  {
   "cell_type": "markdown",
   "id": "eb6589fc",
   "metadata": {},
   "source": [
    "## SVM"
   ]
  },
  {
   "cell_type": "code",
   "execution_count": 45,
   "id": "2db46440",
   "metadata": {},
   "outputs": [
    {
     "name": "stdout",
     "output_type": "stream",
     "text": [
      "Accuracy of SVM Classifier 0.814663951120163\n",
      "Precision of SVM Classifier 0.7980997624703088\n",
      "Recall of SVM Classifier: 0.9824561403508771\n",
      "F1 score of SVM Classifier 0.8807339449541285\n"
     ]
    }
   ],
   "source": [
    "sv_clf1=SVC(C=10,gamma=0.0001,kernel='linear')\n",
    "sv_clf1.fit(x_train_sc,y_train)\n",
    "svm_pred1=sv_clf1.predict(x_train_sc)\n",
    "print('Accuracy of SVM Classifier', accuracy_score(y_train,svm_pred1))\n",
    "print('Precision of SVM Classifier', precision_score(y_train,svm_pred1))\n",
    "print('Recall of SVM Classifier:',recall_score(y_train,svm_pred1))\n",
    "print('F1 score of SVM Classifier', f1_score(y_train,svm_pred1))"
   ]
  },
  {
   "cell_type": "markdown",
   "id": "9dc47851",
   "metadata": {},
   "source": [
    "## Decision Tree"
   ]
  },
  {
   "cell_type": "code",
   "execution_count": 46,
   "id": "f67e8974",
   "metadata": {},
   "outputs": [
    {
     "name": "stdout",
     "output_type": "stream",
     "text": [
      "Accuracy of Decision Tree Classifier 0.9205702647657841\n",
      "Precision of Decision Tree Classifier 0.9522388059701492\n",
      "Recall of Decision Tree Classifier: 0.9327485380116959\n",
      "F1 score of Decision Tree Classifier 0.9423929098966027\n"
     ]
    }
   ],
   "source": [
    "dt_clf1=DecisionTreeClassifier(max_depth=20,criterion='entropy',min_samples_leaf=3)\n",
    "dt_clf1.fit(x_train_sc,y_train)\n",
    "dt_pred1=dt_clf1.predict(x_train_sc)\n",
    "print('Accuracy of Decision Tree Classifier', accuracy_score(y_train,dt_pred1))\n",
    "print('Precision of Decision Tree Classifier', precision_score(y_train,dt_pred1))\n",
    "print('Recall of Decision Tree Classifier:',recall_score(y_train,dt_pred1))\n",
    "print('F1 score of Decision Tree Classifier', f1_score(y_train,dt_pred1))"
   ]
  },
  {
   "cell_type": "markdown",
   "id": "69fa48c0",
   "metadata": {},
   "source": [
    "## Random Forest"
   ]
  },
  {
   "cell_type": "code",
   "execution_count": 47,
   "id": "9b2a7cd0",
   "metadata": {},
   "outputs": [
    {
     "name": "stdout",
     "output_type": "stream",
     "text": [
      "Accuracy of Random Forest Classifier 0.9694501018329938\n",
      "Precision of Random Forest Classifier 0.9711815561959655\n",
      "Recall of Random Forest Classifier: 0.9853801169590644\n",
      "F1 score of Random Forest Classifier 0.9782293178519594\n"
     ]
    }
   ],
   "source": [
    "rf_clf1=RandomForestClassifier(n_estimators = 7, criterion = 'entropy', random_state =42)\n",
    "rf_clf1.fit(x_train_sc,y_train)\n",
    "rf_pred1=rf_clf1.predict(x_train_sc)\n",
    "print('Accuracy of Random Forest Classifier', accuracy_score(y_train,rf_pred1))\n",
    "print('Precision of Random Forest Classifier', precision_score(y_train,rf_pred1))\n",
    "print('Recall of Random Forest Classifier:',recall_score(y_train,rf_pred1))\n",
    "print('F1 score of Random Forest Classifier', f1_score(y_train,rf_pred1))"
   ]
  },
  {
   "cell_type": "markdown",
   "id": "553e616c",
   "metadata": {},
   "source": [
    "Random Forest classifier without hyper parameter tuning has high evaluation metric values. So choose it to predict test data."
   ]
  },
  {
   "cell_type": "markdown",
   "id": "09d7da0a",
   "metadata": {},
   "source": [
    "# Prediction on test data using Random Forest Classifier"
   ]
  },
  {
   "cell_type": "markdown",
   "id": "10aacecc",
   "metadata": {},
   "source": [
    "Split x_train,y_train and x_test"
   ]
  },
  {
   "cell_type": "code",
   "execution_count": 48,
   "id": "dd2d8846",
   "metadata": {},
   "outputs": [],
   "source": [
    "x_train=train.drop('Loan_Status',axis=1)\n",
    "y_train=train['Loan_Status']\n",
    "x_test=test"
   ]
  },
  {
   "cell_type": "markdown",
   "id": "ebc4c1a4",
   "metadata": {},
   "source": [
    "### Standard Scaling"
   ]
  },
  {
   "cell_type": "code",
   "execution_count": 49,
   "id": "f2cd6376",
   "metadata": {},
   "outputs": [],
   "source": [
    "x_train_sc=sc.fit_transform(x_train)\n",
    "x_test_sc=sc.fit_transform(test)"
   ]
  },
  {
   "cell_type": "markdown",
   "id": "ca125d5d",
   "metadata": {},
   "source": [
    "### Prediction"
   ]
  },
  {
   "cell_type": "code",
   "execution_count": 50,
   "id": "88b58c9d",
   "metadata": {},
   "outputs": [],
   "source": [
    "rf_clf.fit(x_train,y_train)\n",
    "rf_pred=rf_clf.predict(x_test)"
   ]
  },
  {
   "cell_type": "markdown",
   "id": "f63f67f2",
   "metadata": {},
   "source": [
    "### Convert into sample format"
   ]
  },
  {
   "cell_type": "code",
   "execution_count": 51,
   "id": "0eb46056",
   "metadata": {},
   "outputs": [],
   "source": [
    "sample=pd.read_csv(r\"C:\\Users\\aksmk\\OneDrive\\Desktop\\DSA\\Virtual competition\\2\\sample_submission_49d68Cx.csv\")\n",
    "sample['Loan_Status']=rf_pred\n",
    "sample['Loan_Status'] = sample['Loan_Status'].map({1: 'Y', 0: 'N'})\n",
    "sample.to_csv('sample_random_forest.csv',index=False)"
   ]
  }
 ],
 "metadata": {
  "kernelspec": {
   "display_name": "Python 3 (ipykernel)",
   "language": "python",
   "name": "python3"
  },
  "language_info": {
   "codemirror_mode": {
    "name": "ipython",
    "version": 3
   },
   "file_extension": ".py",
   "mimetype": "text/x-python",
   "name": "python",
   "nbconvert_exporter": "python",
   "pygments_lexer": "ipython3",
   "version": "3.11.5"
  }
 },
 "nbformat": 4,
 "nbformat_minor": 5
}
