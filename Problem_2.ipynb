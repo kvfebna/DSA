{
 "cells": [
  {
   "cell_type": "code",
   "execution_count": 1,
   "id": "21af2bb2",
   "metadata": {},
   "outputs": [
    {
     "name": "stdout",
     "output_type": "stream",
     "text": [
      "Enter a string value: assembly\n",
      "a = 1\n",
      "s = 2\n",
      "e = 1\n",
      "m = 1\n",
      "b = 1\n",
      "l = 1\n",
      "y = 1\n"
     ]
    }
   ],
   "source": [
    "test=input('Enter a string value: ')\n",
    "test_list=[]\n",
    "for i in test:\n",
    "    if i not in test_list:\n",
    "        test_list.append(i)\n",
    "        print(i,'=',test.count(i))"
   ]
  },
  {
   "cell_type": "code",
   "execution_count": 2,
   "id": "6fa2aa77",
   "metadata": {},
   "outputs": [
    {
     "name": "stdout",
     "output_type": "stream",
     "text": [
      "34\n"
     ]
    }
   ],
   "source": [
    "numbers=34,12,7\n",
    "if numbers[0]>numbers[1] and numbers[0]>numbers[1]:\n",
    "    print(numbers[0])\n",
    "elif numbers[1]>numbers[0] and numbers[1]>numbers[2]:\n",
    "    print(numbers[1])\n",
    "else:\n",
    "    print(numbers[2])"
   ]
  },
  {
   "cell_type": "code",
   "execution_count": 3,
   "id": "84a96760",
   "metadata": {},
   "outputs": [
    {
     "name": "stdout",
     "output_type": "stream",
     "text": [
      "Enter the base: 2\n",
      "Enter the exponent: 3\n",
      "8.0\n"
     ]
    }
   ],
   "source": [
    "def exponent(base,exp):\n",
    "    return base**exp\n",
    "b=float(input('Enter the base: '))\n",
    "e=float(input('Enter the exponent: '))\n",
    "print(exponent(b,e))"
   ]
  },
  {
   "cell_type": "code",
   "execution_count": 4,
   "id": "c7091673",
   "metadata": {},
   "outputs": [
    {
     "name": "stdout",
     "output_type": "stream",
     "text": [
      "36\n"
     ]
    }
   ],
   "source": [
    "def sum(n):\n",
    "    s=0\n",
    "    for i in range(1,n):\n",
    "        s+=i**3\n",
    "    return s\n",
    "number=4\n",
    "print(sum(number))"
   ]
  },
  {
   "cell_type": "code",
   "execution_count": 5,
   "id": "03e41e83",
   "metadata": {},
   "outputs": [
    {
     "name": "stdout",
     "output_type": "stream",
     "text": [
      "1\n",
      "Fizz\n",
      "3\n",
      "Fizz\n",
      "Buzz\n",
      "Fizz\n",
      "7\n",
      "Fizz\n",
      "9\n",
      "FizzBuzz\n"
     ]
    }
   ],
   "source": [
    "for i in range(1,11):\n",
    "    if i%2==0 and i%5==0:\n",
    "        print('FizzBuzz')\n",
    "    elif i%2==0:\n",
    "        print('Fizz')\n",
    "    elif i%5==0:\n",
    "        print('Buzz')\n",
    "    else:\n",
    "        print(i)"
   ]
  },
  {
   "cell_type": "code",
   "execution_count": 6,
   "id": "cd839ea0",
   "metadata": {},
   "outputs": [
    {
     "name": "stdout",
     "output_type": "stream",
     "text": [
      "2\n"
     ]
    }
   ],
   "source": [
    "numbers=[2,3,4,2,5,2,]\n",
    "large=1\n",
    "for number in numbers:\n",
    "    if numbers.count(number)>large:\n",
    "        large=numbers.count(number)\n",
    "        frequent=number\n",
    "print(frequent)    "
   ]
  },
  {
   "cell_type": "code",
   "execution_count": 7,
   "id": "57512424",
   "metadata": {},
   "outputs": [
    {
     "name": "stdout",
     "output_type": "stream",
     "text": [
      "15\n"
     ]
    }
   ],
   "source": [
    "numbers=[2,1,3,1]\n",
    "sum=0\n",
    "for number in numbers:\n",
    "    sum+=number**2\n",
    "print(sum)    "
   ]
  },
  {
   "cell_type": "code",
   "execution_count": 8,
   "id": "b3325386",
   "metadata": {},
   "outputs": [
    {
     "name": "stdout",
     "output_type": "stream",
     "text": [
      "1 - odd\n",
      "2 - even\n",
      "3 - odd\n",
      "4 - even\n",
      "5 - odd\n",
      "6 - even\n",
      "7 - odd\n",
      "8 - even\n",
      "9 - odd\n",
      "10 - even\n",
      "11 - odd\n",
      "12 - even\n",
      "13 - odd\n",
      "14 - even\n",
      "15 - odd\n"
     ]
    }
   ],
   "source": [
    "for i in range(1,16):\n",
    "    if i%2==0:\n",
    "        print(i,'- even')\n",
    "    else:\n",
    "        print(i,'- odd')"
   ]
  },
  {
   "cell_type": "code",
   "execution_count": 9,
   "id": "efb96c34",
   "metadata": {},
   "outputs": [
    {
     "name": "stdout",
     "output_type": "stream",
     "text": [
      "Temperature in Fahrenheit= 41\n",
      "Temperature in Celsius= 5.0\n"
     ]
    }
   ],
   "source": [
    "f=float(input('Temperature in Fahrenheit= '))\n",
    "c=((f-32)/9)*5\n",
    "print('Temperature in Celsius=',c)"
   ]
  },
  {
   "cell_type": "code",
   "execution_count": 10,
   "id": "e3bf05ae",
   "metadata": {},
   "outputs": [
    {
     "name": "stdout",
     "output_type": "stream",
     "text": [
      "6\n"
     ]
    }
   ],
   "source": [
    "def factorial(n):\n",
    "    m=1\n",
    "    for i in range(1,n+1):\n",
    "        m*=i\n",
    "    return m\n",
    "number=3\n",
    "print(factorial(number))"
   ]
  }
 ],
 "metadata": {
  "kernelspec": {
   "display_name": "Python 3 (ipykernel)",
   "language": "python",
   "name": "python3"
  },
  "language_info": {
   "codemirror_mode": {
    "name": "ipython",
    "version": 3
   },
   "file_extension": ".py",
   "mimetype": "text/x-python",
   "name": "python",
   "nbconvert_exporter": "python",
   "pygments_lexer": "ipython3",
   "version": "3.11.5"
  }
 },
 "nbformat": 4,
 "nbformat_minor": 5
}
