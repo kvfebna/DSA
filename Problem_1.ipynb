{
 "cells": [
  {
   "cell_type": "code",
   "execution_count": 1,
   "id": "3376dea8",
   "metadata": {},
   "outputs": [
    {
     "name": "stdout",
     "output_type": "stream",
     "text": [
      "Enter the radius:3\n",
      "Area of Circle is 28.26\n"
     ]
    }
   ],
   "source": [
    "rad=float(input('Enter the radius:'))\n",
    "area=3.14*(rad**2)\n",
    "print('Area of Circle is', area)"
   ]
  },
  {
   "cell_type": "code",
   "execution_count": 2,
   "id": "6256fdf0",
   "metadata": {},
   "outputs": [
    {
     "name": "stdout",
     "output_type": "stream",
     "text": [
      "Enter the name: Anisha\n",
      "Enter the roll number: 21\n",
      "Enter the mark: 78\n",
      "Name: Anisha\n",
      "Roll No: 21\n",
      "Mark: 78\n"
     ]
    }
   ],
   "source": [
    "name=input('Enter the name: ')\n",
    "roll=input('Enter the roll number: ')\n",
    "mark=input('Enter the mark: ')\n",
    "print('Name:',name)\n",
    "print('Roll No:',roll)\n",
    "print('Mark:',mark)"
   ]
  },
  {
   "cell_type": "code",
   "execution_count": 3,
   "id": "d2b06c1a",
   "metadata": {},
   "outputs": [
    {
     "name": "stdout",
     "output_type": "stream",
     "text": [
      "47 is the largest number\n"
     ]
    }
   ],
   "source": [
    "numbers=[12,3,47,10]\n",
    "large=numbers[0]\n",
    "for i in range(1,len(numbers)):\n",
    "    if numbers[i]>large:\n",
    "        large=numbers[i]\n",
    "    else:\n",
    "        continue  \n",
    "print(large, 'is the largest number')"
   ]
  },
  {
   "cell_type": "code",
   "execution_count": 5,
   "id": "ea73f8c6",
   "metadata": {},
   "outputs": [
    {
     "name": "stdout",
     "output_type": "stream",
     "text": [
      "Current Number 1\n",
      "Previous Number 0\n",
      "Sum: 1\n",
      "Current Number 2\n",
      "Previous Number 1\n",
      "Sum: 3\n",
      "Current Number 3\n",
      "Previous Number 2\n",
      "Sum: 5\n",
      "Current Number 4\n",
      "Previous Number 3\n",
      "Sum: 7\n",
      "Current Number 5\n",
      "Previous Number 4\n",
      "Sum: 9\n",
      "Current Number 6\n",
      "Previous Number 5\n",
      "Sum: 11\n",
      "Current Number 7\n",
      "Previous Number 6\n",
      "Sum: 13\n",
      "Current Number 8\n",
      "Previous Number 7\n",
      "Sum: 15\n",
      "Current Number 9\n",
      "Previous Number 8\n",
      "Sum: 17\n",
      "Current Number 10\n",
      "Previous Number 9\n",
      "Sum: 19\n"
     ]
    }
   ],
   "source": [
    "numbers=1,2,3,4,5,6,7,8,9,10\n",
    "for i in range(1,len(numbers)+1):\n",
    "    print('Current Number',i)\n",
    "    print('Previous Number',i-1)\n",
    "    sum=i+(i-1)\n",
    "    print('Sum:',sum)"
   ]
  },
  {
   "cell_type": "code",
   "execution_count": 6,
   "id": "2ad06be7",
   "metadata": {},
   "outputs": [
    {
     "name": "stdout",
     "output_type": "stream",
     "text": [
      "10\n",
      "20\n",
      "55\n"
     ]
    }
   ],
   "source": [
    "numbers=10,20,33,46,55\n",
    "for number in numbers:\n",
    "    if number%5==0:\n",
    "        print(number)"
   ]
  },
  {
   "cell_type": "code",
   "execution_count": 7,
   "id": "d1d32da0",
   "metadata": {},
   "outputs": [
    {
     "name": "stdout",
     "output_type": "stream",
     "text": [
      "Enter the number: 3\n",
      "3 is a prime number\n"
     ]
    }
   ],
   "source": [
    "number=int(input('Enter the number: '))\n",
    "if number==1:\n",
    "    print('1 is not a prime number')\n",
    "elif number==2:\n",
    "    print('2 is a prime number')\n",
    "else:\n",
    "    for i in range(2,number):\n",
    "        if number%i==0:\n",
    "            print(number, 'is not a prime number')\n",
    "            exit()\n",
    "    print(number, 'is a prime number')"
   ]
  },
  {
   "cell_type": "code",
   "execution_count": 8,
   "id": "38681ae3",
   "metadata": {},
   "outputs": [
    {
     "name": "stdout",
     "output_type": "stream",
     "text": [
      "[70, 30, 40, 10]\n"
     ]
    }
   ],
   "source": [
    "list1=[10,40,30,70]\n",
    "reversed_list=[]\n",
    "for i in range(len(list1)-1,-1,-1):\n",
    "        reversed_list.append(list1[i])\n",
    "print(reversed_list)"
   ]
  },
  {
   "cell_type": "code",
   "execution_count": 9,
   "id": "5d97abb0",
   "metadata": {},
   "outputs": [
    {
     "name": "stdout",
     "output_type": "stream",
     "text": [
      "*\n",
      "**\n",
      "***\n",
      "****\n"
     ]
    }
   ],
   "source": [
    "for i in range(1,5):\n",
    "    print('*'*i)"
   ]
  },
  {
   "cell_type": "code",
   "execution_count": 10,
   "id": "b8030913",
   "metadata": {},
   "outputs": [
    {
     "name": "stdout",
     "output_type": "stream",
     "text": [
      "34\n"
     ]
    }
   ],
   "source": [
    "numbers=34,12,7\n",
    "if numbers[0]>numbers[1] and numbers[0]>numbers[2]:\n",
    "    print(numbers[0])\n",
    "elif numbers[1]>numbers[0] and numbers[1]>numbers[2]:\n",
    "    print(numbers[1])\n",
    "else:\n",
    "    print(numbers[2])"
   ]
  },
  {
   "cell_type": "code",
   "execution_count": 11,
   "id": "0f7e1f29",
   "metadata": {},
   "outputs": [
    {
     "name": "stdout",
     "output_type": "stream",
     "text": [
      "*\n",
      "**\n",
      "***\n",
      "****\n",
      "*****\n",
      "****\n",
      "***\n",
      "**\n",
      "*\n"
     ]
    }
   ],
   "source": [
    "for i in range(1,6):\n",
    "    if i<5:\n",
    "        print('*'*i)\n",
    "    else:\n",
    "        for j in range(5,0,-1):\n",
    "            print('*'*j)"
   ]
  }
 ],
 "metadata": {
  "kernelspec": {
   "display_name": "Python 3 (ipykernel)",
   "language": "python",
   "name": "python3"
  },
  "language_info": {
   "codemirror_mode": {
    "name": "ipython",
    "version": 3
   },
   "file_extension": ".py",
   "mimetype": "text/x-python",
   "name": "python",
   "nbconvert_exporter": "python",
   "pygments_lexer": "ipython3",
   "version": "3.11.5"
  }
 },
 "nbformat": 4,
 "nbformat_minor": 5
}
