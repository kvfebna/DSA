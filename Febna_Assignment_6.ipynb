{
 "cells": [
  {
   "cell_type": "markdown",
   "id": "690b9fb2",
   "metadata": {},
   "source": [
    "# ASSIGNMENT ON MODEL SELECTION"
   ]
  },
  {
   "cell_type": "markdown",
   "id": "26558496",
   "metadata": {},
   "source": [
    "### Import required libraries"
   ]
  },
  {
   "cell_type": "code",
   "execution_count": 1,
   "id": "72646ce3",
   "metadata": {},
   "outputs": [],
   "source": [
    "import numpy as np\n",
    "import pandas as pd\n",
    "import matplotlib.pyplot as plt\n",
    "import seaborn as sns\n",
    "from sklearn.preprocessing import MinMaxScaler\n",
    "from sklearn.model_selection import train_test_split\n",
    "from sklearn.neighbors import KNeighborsClassifier\n",
    "from sklearn.metrics import accuracy_score\n",
    "from sklearn.svm import SVC\n",
    "from sklearn.model_selection import KFold\n",
    "from sklearn.model_selection import cross_val_score\n",
    "from sklearn.model_selection import StratifiedKFold"
   ]
  },
  {
   "cell_type": "markdown",
   "id": "2e6c87ee",
   "metadata": {},
   "source": [
    " ### Read the dataset to python environment"
   ]
  },
  {
   "cell_type": "code",
   "execution_count": 2,
   "id": "8b589bf8",
   "metadata": {},
   "outputs": [
    {
     "data": {
      "text/html": [
       "<div>\n",
       "<style scoped>\n",
       "    .dataframe tbody tr th:only-of-type {\n",
       "        vertical-align: middle;\n",
       "    }\n",
       "\n",
       "    .dataframe tbody tr th {\n",
       "        vertical-align: top;\n",
       "    }\n",
       "\n",
       "    .dataframe thead th {\n",
       "        text-align: right;\n",
       "    }\n",
       "</style>\n",
       "<table border=\"1\" class=\"dataframe\">\n",
       "  <thead>\n",
       "    <tr style=\"text-align: right;\">\n",
       "      <th></th>\n",
       "      <th>PassengerId</th>\n",
       "      <th>Survived</th>\n",
       "      <th>Pclass</th>\n",
       "      <th>Name</th>\n",
       "      <th>Sex</th>\n",
       "      <th>Age</th>\n",
       "      <th>SibSp</th>\n",
       "      <th>Parch</th>\n",
       "      <th>Ticket</th>\n",
       "      <th>Fare</th>\n",
       "      <th>Cabin</th>\n",
       "      <th>Embarked</th>\n",
       "    </tr>\n",
       "  </thead>\n",
       "  <tbody>\n",
       "    <tr>\n",
       "      <th>0</th>\n",
       "      <td>1</td>\n",
       "      <td>0</td>\n",
       "      <td>3</td>\n",
       "      <td>Braund, Mr. Owen Harris</td>\n",
       "      <td>male</td>\n",
       "      <td>22.0</td>\n",
       "      <td>1</td>\n",
       "      <td>0</td>\n",
       "      <td>A/5 21171</td>\n",
       "      <td>7.2500</td>\n",
       "      <td>NaN</td>\n",
       "      <td>S</td>\n",
       "    </tr>\n",
       "    <tr>\n",
       "      <th>1</th>\n",
       "      <td>2</td>\n",
       "      <td>1</td>\n",
       "      <td>1</td>\n",
       "      <td>Cumings, Mrs. John Bradley (Florence Briggs Th...</td>\n",
       "      <td>female</td>\n",
       "      <td>38.0</td>\n",
       "      <td>1</td>\n",
       "      <td>0</td>\n",
       "      <td>PC 17599</td>\n",
       "      <td>71.2833</td>\n",
       "      <td>C85</td>\n",
       "      <td>C</td>\n",
       "    </tr>\n",
       "    <tr>\n",
       "      <th>2</th>\n",
       "      <td>3</td>\n",
       "      <td>1</td>\n",
       "      <td>3</td>\n",
       "      <td>Heikkinen, Miss. Laina</td>\n",
       "      <td>female</td>\n",
       "      <td>26.0</td>\n",
       "      <td>0</td>\n",
       "      <td>0</td>\n",
       "      <td>STON/O2. 3101282</td>\n",
       "      <td>7.9250</td>\n",
       "      <td>NaN</td>\n",
       "      <td>S</td>\n",
       "    </tr>\n",
       "    <tr>\n",
       "      <th>3</th>\n",
       "      <td>4</td>\n",
       "      <td>1</td>\n",
       "      <td>1</td>\n",
       "      <td>Futrelle, Mrs. Jacques Heath (Lily May Peel)</td>\n",
       "      <td>female</td>\n",
       "      <td>35.0</td>\n",
       "      <td>1</td>\n",
       "      <td>0</td>\n",
       "      <td>113803</td>\n",
       "      <td>53.1000</td>\n",
       "      <td>C123</td>\n",
       "      <td>S</td>\n",
       "    </tr>\n",
       "    <tr>\n",
       "      <th>4</th>\n",
       "      <td>5</td>\n",
       "      <td>0</td>\n",
       "      <td>3</td>\n",
       "      <td>Allen, Mr. William Henry</td>\n",
       "      <td>male</td>\n",
       "      <td>35.0</td>\n",
       "      <td>0</td>\n",
       "      <td>0</td>\n",
       "      <td>373450</td>\n",
       "      <td>8.0500</td>\n",
       "      <td>NaN</td>\n",
       "      <td>S</td>\n",
       "    </tr>\n",
       "  </tbody>\n",
       "</table>\n",
       "</div>"
      ],
      "text/plain": [
       "   PassengerId  Survived  Pclass  \\\n",
       "0            1         0       3   \n",
       "1            2         1       1   \n",
       "2            3         1       3   \n",
       "3            4         1       1   \n",
       "4            5         0       3   \n",
       "\n",
       "                                                Name     Sex   Age  SibSp  \\\n",
       "0                            Braund, Mr. Owen Harris    male  22.0      1   \n",
       "1  Cumings, Mrs. John Bradley (Florence Briggs Th...  female  38.0      1   \n",
       "2                             Heikkinen, Miss. Laina  female  26.0      0   \n",
       "3       Futrelle, Mrs. Jacques Heath (Lily May Peel)  female  35.0      1   \n",
       "4                           Allen, Mr. William Henry    male  35.0      0   \n",
       "\n",
       "   Parch            Ticket     Fare Cabin Embarked  \n",
       "0      0         A/5 21171   7.2500   NaN        S  \n",
       "1      0          PC 17599  71.2833   C85        C  \n",
       "2      0  STON/O2. 3101282   7.9250   NaN        S  \n",
       "3      0            113803  53.1000  C123        S  \n",
       "4      0            373450   8.0500   NaN        S  "
      ]
     },
     "execution_count": 2,
     "metadata": {},
     "output_type": "execute_result"
    }
   ],
   "source": [
    "titanic=pd.read_csv(r\"C:\\Users\\aksmk\\OneDrive\\Desktop\\DSA\\Assignments\\6\\titanic_dataset .csv\")\n",
    "titanic.head()"
   ]
  },
  {
   "cell_type": "markdown",
   "id": "5221c95a",
   "metadata": {},
   "source": [
    "## PRE - PROCESSING"
   ]
  },
  {
   "cell_type": "markdown",
   "id": "137fb21c",
   "metadata": {},
   "source": [
    "### Check basic information about the dataset"
   ]
  },
  {
   "cell_type": "code",
   "execution_count": 3,
   "id": "23faa82b",
   "metadata": {},
   "outputs": [
    {
     "name": "stdout",
     "output_type": "stream",
     "text": [
      "<class 'pandas.core.frame.DataFrame'>\n",
      "RangeIndex: 891 entries, 0 to 890\n",
      "Data columns (total 12 columns):\n",
      " #   Column       Non-Null Count  Dtype  \n",
      "---  ------       --------------  -----  \n",
      " 0   PassengerId  891 non-null    int64  \n",
      " 1   Survived     891 non-null    int64  \n",
      " 2   Pclass       891 non-null    int64  \n",
      " 3   Name         891 non-null    object \n",
      " 4   Sex          891 non-null    object \n",
      " 5   Age          714 non-null    float64\n",
      " 6   SibSp        891 non-null    int64  \n",
      " 7   Parch        891 non-null    int64  \n",
      " 8   Ticket       891 non-null    object \n",
      " 9   Fare         891 non-null    float64\n",
      " 10  Cabin        204 non-null    object \n",
      " 11  Embarked     889 non-null    object \n",
      "dtypes: float64(2), int64(5), object(5)\n",
      "memory usage: 83.7+ KB\n"
     ]
    }
   ],
   "source": [
    "titanic.info()"
   ]
  },
  {
   "cell_type": "markdown",
   "id": "1f4ee8e7",
   "metadata": {},
   "source": [
    "Columns 'Age', 'Cabin' and 'Embarked' have null values."
   ]
  },
  {
   "cell_type": "code",
   "execution_count": 4,
   "id": "1d2748a7",
   "metadata": {},
   "outputs": [
    {
     "data": {
      "text/plain": [
       "891"
      ]
     },
     "execution_count": 4,
     "metadata": {},
     "output_type": "execute_result"
    }
   ],
   "source": [
    "titanic['PassengerId'].nunique()"
   ]
  },
  {
   "cell_type": "markdown",
   "id": "7bd0dd6f",
   "metadata": {},
   "source": [
    "Since column 'PassengerId' contains full of unique values, drop it or make it as index column."
   ]
  },
  {
   "cell_type": "code",
   "execution_count": 5,
   "id": "a674edd6",
   "metadata": {},
   "outputs": [],
   "source": [
    "titanic.set_index('PassengerId',inplace=True)"
   ]
  },
  {
   "cell_type": "markdown",
   "id": "9db805df",
   "metadata": {},
   "source": [
    "Since the columns 'Name' and 'Ticket' does not contribute to predict our target variable 'Survived', drop them."
   ]
  },
  {
   "cell_type": "code",
   "execution_count": 6,
   "id": "335b6b68",
   "metadata": {},
   "outputs": [],
   "source": [
    "titanic.drop(['Name','Ticket'],axis=1,inplace=True)"
   ]
  },
  {
   "cell_type": "markdown",
   "id": "ab617bc1",
   "metadata": {},
   "source": [
    "'SibSp' and 'Parch' would make more sense as a combined feature, that shows the total number of relatives, a person has on the Titanic. So combine them and drop initial ones."
   ]
  },
  {
   "cell_type": "code",
   "execution_count": 7,
   "id": "8fac24dc",
   "metadata": {},
   "outputs": [],
   "source": [
    "titanic['Relatives'] = titanic['SibSp'] + titanic['Parch']\n",
    "titanic.drop(['SibSp','Parch'],axis=1,inplace=True)"
   ]
  },
  {
   "cell_type": "markdown",
   "id": "f7bc09c6",
   "metadata": {},
   "source": [
    "### Null value imputation"
   ]
  },
  {
   "cell_type": "markdown",
   "id": "ffc13609",
   "metadata": {},
   "source": [
    "Since the column 'Cabin' contains 77% null values, it will be better to drop the entire column itself instead of imputation."
   ]
  },
  {
   "cell_type": "code",
   "execution_count": 8,
   "id": "ed7eb1bd",
   "metadata": {},
   "outputs": [],
   "source": [
    "titanic.drop('Cabin',axis=1,inplace=True)"
   ]
  },
  {
   "cell_type": "markdown",
   "id": "31fd832c",
   "metadata": {},
   "source": [
    "Since column 'Embarked' is a categotical data, use mode for missing value imputation."
   ]
  },
  {
   "cell_type": "code",
   "execution_count": 9,
   "id": "ac84ecc9",
   "metadata": {},
   "outputs": [],
   "source": [
    "titanic.Embarked=titanic.Embarked.fillna(titanic.Embarked.mode()[0])"
   ]
  },
  {
   "cell_type": "code",
   "execution_count": 10,
   "id": "3c5dedee",
   "metadata": {},
   "outputs": [
    {
     "data": {
      "text/plain": [
       "0.38910778230082704"
      ]
     },
     "execution_count": 10,
     "metadata": {},
     "output_type": "execute_result"
    }
   ],
   "source": [
    "titanic.Age.skew()"
   ]
  },
  {
   "cell_type": "markdown",
   "id": "b2678d89",
   "metadata": {},
   "source": [
    "\n",
    "Since column 'Age' is a skewed distribution, use median for imputation of missing values."
   ]
  },
  {
   "cell_type": "code",
   "execution_count": 11,
   "id": "76e477e3",
   "metadata": {},
   "outputs": [],
   "source": [
    "titanic.Age=titanic.Age.fillna(titanic.Age.median())"
   ]
  },
  {
   "cell_type": "markdown",
   "id": "608e0601",
   "metadata": {},
   "source": [
    "### Check again for null values"
   ]
  },
  {
   "cell_type": "code",
   "execution_count": 12,
   "id": "3754eef4",
   "metadata": {},
   "outputs": [
    {
     "data": {
      "text/plain": [
       "Survived     0\n",
       "Pclass       0\n",
       "Sex          0\n",
       "Age          0\n",
       "Fare         0\n",
       "Embarked     0\n",
       "Relatives    0\n",
       "dtype: int64"
      ]
     },
     "execution_count": 12,
     "metadata": {},
     "output_type": "execute_result"
    }
   ],
   "source": [
    "titanic.isna().sum()"
   ]
  },
  {
   "cell_type": "markdown",
   "id": "d5166766",
   "metadata": {},
   "source": [
    "Now there are no null values present in the dataset. All null values are imputed properly."
   ]
  },
  {
   "cell_type": "markdown",
   "id": "7ec937e3",
   "metadata": {},
   "source": [
    "\n",
    "\n",
    "### Boxplot for checking outliers"
   ]
  },
  {
   "cell_type": "code",
   "execution_count": 13,
   "id": "591299fe",
   "metadata": {},
   "outputs": [
    {
     "data": {
      "image/png": "[encoded data removed]",
      "text/plain": [
       "<Figure size 640x480 with 1 Axes>"
      ]
     },
     "metadata": {},
     "output_type": "display_data"
    }
   ],
   "source": [
    "sns.boxplot(titanic)\n",
    "plt.show()"
   ]
  },
  {
   "cell_type": "markdown",
   "id": "bee7de22",
   "metadata": {},
   "source": [
    "The columns 'Age', 'Fare'  and 'Relatives' have outliers."
   ]
  },
  {
   "cell_type": "code",
   "execution_count": 14,
   "id": "2df78519",
   "metadata": {},
   "outputs": [
    {
     "name": "stdout",
     "output_type": "stream",
     "text": [
      "Skewness value of column Age is 0.5102446555756495\n",
      "Skewness value of column Fare is 4.787316519674893\n",
      "Skewness value of column Relatives is 2.7274414739308535\n"
     ]
    }
   ],
   "source": [
    "for i in ['Age','Fare','Relatives']:\n",
    "    print('Skewness value of column', i, 'is', titanic[i].skew())"
   ]
  },
  {
   "cell_type": "markdown",
   "id": "5cccfbd5",
   "metadata": {},
   "source": [
    "All are skewed distributions. So use IQR (Inter Quartile Range) method for outlier detection."
   ]
  },
  {
   "cell_type": "markdown",
   "id": "9c3c2d50",
   "metadata": {},
   "source": [
    "### IQR method for outlier detection and clip function for outlier handling"
   ]
  },
  {
   "cell_type": "code",
   "execution_count": 15,
   "id": "6cabeebf",
   "metadata": {},
   "outputs": [],
   "source": [
    "for i in ['Age','Fare','Relatives']:\n",
    "    Q1=np.percentile(titanic[i],25,method='midpoint')\n",
    "    Q3=np.percentile(titanic[i],75,method='midpoint')\n",
    "    IQR=Q3-Q1\n",
    "    low_lim=Q1-1.5*IQR\n",
    "    up_lim=Q3+1.5*IQR\n",
    "    outliers=[]\n",
    "    for j in titanic[i]:\n",
    "        if ((j < low_lim) | (j > up_lim)):\n",
    "            outliers.append(j)    \n",
    "    titanic[i]=titanic[i].clip(lower=low_lim,upper=up_lim) "
   ]
  },
  {
   "cell_type": "markdown",
   "id": "0b8e55fc",
   "metadata": {},
   "source": [
    "### Check again for outliers using boxplot"
   ]
  },
  {
   "cell_type": "code",
   "execution_count": 16,
   "id": "9666aae5",
   "metadata": {},
   "outputs": [
    {
     "data": {
      "image/png": "[encoded data removed]",
      "text/plain": [
       "<Figure size 640x480 with 1 Axes>"
      ]
     },
     "metadata": {},
     "output_type": "display_data"
    }
   ],
   "source": [
    "sns.boxplot(titanic)\n",
    "plt.show()"
   ]
  },
  {
   "cell_type": "markdown",
   "id": "2a996272",
   "metadata": {},
   "source": [
    "Outliers are removed."
   ]
  },
  {
   "cell_type": "markdown",
   "id": "5b7038d3",
   "metadata": {},
   "source": [
    "### One hot encoding"
   ]
  },
  {
   "cell_type": "markdown",
   "id": "fb0978c5",
   "metadata": {},
   "source": [
    "Encode columns 'Sex' and 'Embarked'"
   ]
  },
  {
   "cell_type": "code",
   "execution_count": 17,
   "id": "8c67a45b",
   "metadata": {},
   "outputs": [],
   "source": [
    "titanic=pd.get_dummies(titanic).astype(float)"
   ]
  },
  {
   "cell_type": "markdown",
   "id": "63e45194",
   "metadata": {},
   "source": [
    "### Min max scaling"
   ]
  },
  {
   "cell_type": "code",
   "execution_count": 18,
   "id": "486d93e5",
   "metadata": {},
   "outputs": [],
   "source": [
    "minmax=MinMaxScaler()\n",
    "titanic_mm=minmax.fit_transform(titanic)\n",
    "titanic_mm=pd.DataFrame(titanic_mm,columns=titanic.columns)"
   ]
  },
  {
   "cell_type": "markdown",
   "id": "3e984ce8",
   "metadata": {},
   "source": [
    "### Correlation"
   ]
  },
  {
   "cell_type": "code",
   "execution_count": 19,
   "id": "885e4bdb",
   "metadata": {},
   "outputs": [
    {
     "data": {
      "image/png": "[encoded data removed]",
      "text/plain": [
       "<Figure size 640x480 with 2 Axes>"
      ]
     },
     "metadata": {},
     "output_type": "display_data"
    }
   ],
   "source": [
    "sns.heatmap(titanic_mm.corr(),annot=True)\n",
    "plt.show()"
   ]
  },
  {
   "cell_type": "markdown",
   "id": "1dda6c82",
   "metadata": {},
   "source": [
    "There are no columns with high correlation."
   ]
  },
  {
   "cell_type": "markdown",
   "id": "5f153d52",
   "metadata": {},
   "source": [
    "# MODELLING"
   ]
  },
  {
   "cell_type": "markdown",
   "id": "77d97cea",
   "metadata": {},
   "source": [
    "Predictors/ independent variables, x = Pclass, Age, Fare, Relatives, Sex and Embarked\n",
    "\n",
    "Target / dependent variable, y = Survived"
   ]
  },
  {
   "cell_type": "markdown",
   "id": "e4b90a25",
   "metadata": {},
   "source": [
    "### Differentiate x, y and split train, test"
   ]
  },
  {
   "cell_type": "code",
   "execution_count": 20,
   "id": "44c57c35",
   "metadata": {},
   "outputs": [],
   "source": [
    "x=titanic_mm.drop('Survived',axis=1)\n",
    "y=titanic_mm.Survived\n",
    "x_train,x_test,y_train,y_test=train_test_split(x,y,random_state=42,test_size=0.2)"
   ]
  },
  {
   "cell_type": "markdown",
   "id": "192ca506",
   "metadata": {},
   "source": [
    "## KNN"
   ]
  },
  {
   "cell_type": "markdown",
   "id": "a425c49f",
   "metadata": {},
   "source": [
    "### To find k value"
   ]
  },
  {
   "cell_type": "code",
   "execution_count": 21,
   "id": "ee0658cf",
   "metadata": {},
   "outputs": [
    {
     "data": {
      "image/png": "[encoded data removed]",
      "text/plain": [
       "<Figure size 640x480 with 1 Axes>"
      ]
     },
     "metadata": {},
     "output_type": "display_data"
    }
   ],
   "source": [
    "metric_k=[]\n",
    "neighbors=np.arange(3,15)\n",
    "for k in neighbors:\n",
    "    knn=KNeighborsClassifier(n_neighbors=k,metric='manhattan')\n",
    "    knn.fit(x_train,y_train)\n",
    "    knn_pred=knn.predict(x_test)\n",
    "    metric_k.append(accuracy_score(y_test,knn_pred))\n",
    "plt.plot(neighbors,metric_k,'o-')    \n",
    "plt.show()"
   ]
  },
  {
   "cell_type": "markdown",
   "id": "caab8256",
   "metadata": {},
   "source": [
    "High accuracy is for k = 7. So choose it and do classification."
   ]
  },
  {
   "cell_type": "code",
   "execution_count": 22,
   "id": "82e6f758",
   "metadata": {},
   "outputs": [
    {
     "name": "stdout",
     "output_type": "stream",
     "text": [
      "Accuracy of KNN Classifier is 83.24\n"
     ]
    }
   ],
   "source": [
    "knn=KNeighborsClassifier(n_neighbors=7,metric='manhattan')\n",
    "knn.fit(x_train,y_train)\n",
    "knn_pred=knn.predict(x_test)\n",
    "print('Accuracy of KNN Classifier is', round(accuracy_score(y_test,knn_pred)*100,2))"
   ]
  },
  {
   "cell_type": "markdown",
   "id": "8a52fb05",
   "metadata": {},
   "source": [
    "## SVM"
   ]
  },
  {
   "cell_type": "code",
   "execution_count": 23,
   "id": "1e2ff165",
   "metadata": {},
   "outputs": [
    {
     "name": "stdout",
     "output_type": "stream",
     "text": [
      "Accuracy of SVM Classifier is 79.33\n"
     ]
    }
   ],
   "source": [
    "svm=SVC(class_weight='balanced')\n",
    "svm.fit(x_train,y_train)\n",
    "svm_pred=svm.predict(x_test)\n",
    "print('Accuracy of SVM Classifier is', round(accuracy_score(y_test,svm_pred)*100,2))"
   ]
  },
  {
   "cell_type": "markdown",
   "id": "72d4eee8",
   "metadata": {},
   "source": [
    "# CROSS VALIDATION"
   ]
  },
  {
   "cell_type": "markdown",
   "id": "670b9064",
   "metadata": {},
   "source": [
    "## K Fold"
   ]
  },
  {
   "cell_type": "code",
   "execution_count": 24,
   "id": "e3817b56",
   "metadata": {},
   "outputs": [],
   "source": [
    "kfold_validator=KFold(10,shuffle=True,random_state=42)"
   ]
  },
  {
   "cell_type": "markdown",
   "id": "12a97e14",
   "metadata": {},
   "source": [
    "### KNN"
   ]
  },
  {
   "cell_type": "code",
   "execution_count": 25,
   "id": "c2a1d490",
   "metadata": {},
   "outputs": [
    {
     "name": "stdout",
     "output_type": "stream",
     "text": [
      "Average cross validation score of KNN classifier is 0.7878277153558053\n"
     ]
    }
   ],
   "source": [
    "cv_result_knn=cross_val_score(knn,x,y,cv=kfold_validator)\n",
    "print('Average cross validation score of KNN classifier is', cv_result_knn.mean())"
   ]
  },
  {
   "cell_type": "markdown",
   "id": "8cc71aeb",
   "metadata": {},
   "source": [
    "### SVM"
   ]
  },
  {
   "cell_type": "code",
   "execution_count": 26,
   "id": "1e154701",
   "metadata": {},
   "outputs": [
    {
     "name": "stdout",
     "output_type": "stream",
     "text": [
      "Average cross validation score of SVM classifier is 0.8002122347066167\n"
     ]
    }
   ],
   "source": [
    "cv_result_svm=cross_val_score(svm,x,y,cv=kfold_validator)\n",
    "print('Average cross validation score of SVM classifier is', cv_result_svm.mean())"
   ]
  },
  {
   "cell_type": "markdown",
   "id": "1234ce65",
   "metadata": {},
   "source": [
    "## Stratified K Fold"
   ]
  },
  {
   "cell_type": "code",
   "execution_count": 27,
   "id": "2fa70049",
   "metadata": {},
   "outputs": [],
   "source": [
    "strat_validator=StratifiedKFold(n_splits=10,shuffle=True,random_state=10)"
   ]
  },
  {
   "cell_type": "markdown",
   "id": "a4132881",
   "metadata": {},
   "source": [
    "### KNN"
   ]
  },
  {
   "cell_type": "code",
   "execution_count": 28,
   "id": "5c5ca46e",
   "metadata": {},
   "outputs": [
    {
     "name": "stdout",
     "output_type": "stream",
     "text": [
      "Average cross validation score of KNN classifier is 0.7956928838951309\n"
     ]
    }
   ],
   "source": [
    "str_cv_result_knn=cross_val_score(knn,x,y,cv=strat_validator)\n",
    "print('Average cross validation score of KNN classifier is',str_cv_result_knn.mean())"
   ]
  },
  {
   "cell_type": "markdown",
   "id": "f2d08ff6",
   "metadata": {},
   "source": [
    "\n",
    "### SVM"
   ]
  },
  {
   "cell_type": "code",
   "execution_count": 29,
   "id": "8e836457",
   "metadata": {},
   "outputs": [
    {
     "name": "stdout",
     "output_type": "stream",
     "text": [
      "Average cross validation score of SVM classifier is 0.8103245942571785\n"
     ]
    }
   ],
   "source": [
    "str_cv_result_svm=cross_val_score(svm,x,y,cv=strat_validator)\n",
    "print('Average cross validation score of SVM classifier is', str_cv_result_svm.mean())"
   ]
  },
  {
   "cell_type": "markdown",
   "id": "3255d709",
   "metadata": {},
   "source": [
    "\n",
    "# Comparison between Cross Validation Techniques"
   ]
  },
  {
   "cell_type": "code",
   "execution_count": 30,
   "id": "6f27f3ce",
   "metadata": {},
   "outputs": [
    {
     "data": {
      "text/html": [
       "<div>\n",
       "<style scoped>\n",
       "    .dataframe tbody tr th:only-of-type {\n",
       "        vertical-align: middle;\n",
       "    }\n",
       "\n",
       "    .dataframe tbody tr th {\n",
       "        vertical-align: top;\n",
       "    }\n",
       "\n",
       "    .dataframe thead tr th {\n",
       "        text-align: left;\n",
       "    }\n",
       "</style>\n",
       "<table border=\"1\" class=\"dataframe\">\n",
       "  <thead>\n",
       "    <tr>\n",
       "      <th></th>\n",
       "      <th colspan=\"2\" halign=\"left\">Average Cross Validation Score</th>\n",
       "    </tr>\n",
       "    <tr>\n",
       "      <th></th>\n",
       "      <th>K Fold</th>\n",
       "      <th>Stratified K Fold</th>\n",
       "    </tr>\n",
       "  </thead>\n",
       "  <tbody>\n",
       "    <tr>\n",
       "      <th>KNN</th>\n",
       "      <td>0.787828</td>\n",
       "      <td>0.795693</td>\n",
       "    </tr>\n",
       "    <tr>\n",
       "      <th>SVM</th>\n",
       "      <td>0.800212</td>\n",
       "      <td>0.810325</td>\n",
       "    </tr>\n",
       "  </tbody>\n",
       "</table>\n",
       "</div>"
      ],
      "text/plain": [
       "    Average Cross Validation Score                  \n",
       "                            K Fold Stratified K Fold\n",
       "KNN                       0.787828          0.795693\n",
       "SVM                       0.800212          0.810325"
      ]
     },
     "execution_count": 30,
     "metadata": {},
     "output_type": "execute_result"
    }
   ],
   "source": [
    "mux = pd.MultiIndex.from_product([['Average Cross Validation Score'],['K Fold','Stratified K Fold']])\n",
    "model=['KNN','SVM']\n",
    "comp_table = pd.DataFrame([[cv_result_knn.mean(),str_cv_result_knn.mean()],[cv_result_svm.mean(),str_cv_result_svm.mean()]],columns=mux)\n",
    "comp_table.index=model\n",
    "comp_table"
   ]
  },
  {
   "cell_type": "markdown",
   "id": "569f8e95",
   "metadata": {},
   "source": [
    "OBSERVATIONS: \n",
    "    \n",
    "1. Average cross validation scores of both KNN and SVM classifiers are slightly improved for stratified k fold technique     compared to k fold technique.\n",
    "\n",
    "2. For both cross validation techniques, SVM classifier performs better than KNN classifier."
   ]
  }
 ],
 "metadata": {
  "kernelspec": {
   "display_name": "Python 3 (ipykernel)",
   "language": "python",
   "name": "python3"
  },
  "language_info": {
   "codemirror_mode": {
    "name": "ipython",
    "version": 3
   },
   "file_extension": ".py",
   "mimetype": "text/x-python",
   "name": "python",
   "nbconvert_exporter": "python",
   "pygments_lexer": "ipython3",
   "version": "3.11.5"
  }
 },
 "nbformat": 4,
 "nbformat_minor": 5
}
