{
 "cells": [
  {
   "cell_type": "markdown",
   "id": "926bb7e4",
   "metadata": {},
   "source": [
    "# Case Study on Regression"
   ]
  },
  {
   "cell_type": "markdown",
   "id": "9bee8087",
   "metadata": {},
   "source": [
    "### Import required libraries"
   ]
  },
  {
   "cell_type": "code",
   "execution_count": 1,
   "id": "b101997f",
   "metadata": {},
   "outputs": [],
   "source": [
    "import numpy as np\n",
    "import pandas as pd\n",
    "import matplotlib.pyplot as plt\n",
    "import seaborn as sns\n",
    "from scipy.stats import zscore\n",
    "from sklearn.preprocessing import StandardScaler\n",
    "from sklearn.model_selection import train_test_split\n",
    "from sklearn import linear_model\n",
    "from sklearn.metrics import mean_squared_error,mean_absolute_error,r2_score\n",
    "from sklearn.preprocessing import StandardScaler"
   ]
  },
  {
   "cell_type": "markdown",
   "id": "175e2fbd",
   "metadata": {},
   "source": [
    "### Load the dataset"
   ]
  },
  {
   "cell_type": "code",
   "execution_count": 2,
   "id": "fb83e99c",
   "metadata": {},
   "outputs": [
    {
     "data": {
      "text/html": [
       "<div>\n",
       "<style scoped>\n",
       "    .dataframe tbody tr th:only-of-type {\n",
       "        vertical-align: middle;\n",
       "    }\n",
       "\n",
       "    .dataframe tbody tr th {\n",
       "        vertical-align: top;\n",
       "    }\n",
       "\n",
       "    .dataframe thead th {\n",
       "        text-align: right;\n",
       "    }\n",
       "</style>\n",
       "<table border=\"1\" class=\"dataframe\">\n",
       "  <thead>\n",
       "    <tr style=\"text-align: right;\">\n",
       "      <th></th>\n",
       "      <th>Year</th>\n",
       "      <th>Price</th>\n",
       "    </tr>\n",
       "  </thead>\n",
       "  <tbody>\n",
       "    <tr>\n",
       "      <th>0</th>\n",
       "      <td>2018</td>\n",
       "      <td>465000</td>\n",
       "    </tr>\n",
       "    <tr>\n",
       "      <th>1</th>\n",
       "      <td>2019</td>\n",
       "      <td>755000</td>\n",
       "    </tr>\n",
       "    <tr>\n",
       "      <th>2</th>\n",
       "      <td>2019</td>\n",
       "      <td>700000</td>\n",
       "    </tr>\n",
       "    <tr>\n",
       "      <th>3</th>\n",
       "      <td>2018</td>\n",
       "      <td>465000</td>\n",
       "    </tr>\n",
       "    <tr>\n",
       "      <th>4</th>\n",
       "      <td>2018</td>\n",
       "      <td>465000</td>\n",
       "    </tr>\n",
       "    <tr>\n",
       "      <th>...</th>\n",
       "      <td>...</td>\n",
       "      <td>...</td>\n",
       "    </tr>\n",
       "    <tr>\n",
       "      <th>107</th>\n",
       "      <td>2016</td>\n",
       "      <td>375000</td>\n",
       "    </tr>\n",
       "    <tr>\n",
       "      <th>108</th>\n",
       "      <td>2014</td>\n",
       "      <td>300000</td>\n",
       "    </tr>\n",
       "    <tr>\n",
       "      <th>109</th>\n",
       "      <td>2015</td>\n",
       "      <td>425000</td>\n",
       "    </tr>\n",
       "    <tr>\n",
       "      <th>110</th>\n",
       "      <td>2016</td>\n",
       "      <td>420000</td>\n",
       "    </tr>\n",
       "    <tr>\n",
       "      <th>111</th>\n",
       "      <td>2015</td>\n",
       "      <td>425000</td>\n",
       "    </tr>\n",
       "  </tbody>\n",
       "</table>\n",
       "<p>112 rows × 2 columns</p>\n",
       "</div>"
      ],
      "text/plain": [
       "     Year   Price\n",
       "0    2018  465000\n",
       "1    2019  755000\n",
       "2    2019  700000\n",
       "3    2018  465000\n",
       "4    2018  465000\n",
       "..    ...     ...\n",
       "107  2016  375000\n",
       "108  2014  300000\n",
       "109  2015  425000\n",
       "110  2016  420000\n",
       "111  2015  425000\n",
       "\n",
       "[112 rows x 2 columns]"
      ]
     },
     "execution_count": 2,
     "metadata": {},
     "output_type": "execute_result"
    }
   ],
   "source": [
    "car_data=pd.read_csv(r\"C:\\Users\\aksmk\\OneDrive\\Desktop\\DSA\\Datasets\\car_age_price.csv\")\n",
    "car_data"
   ]
  },
  {
   "cell_type": "markdown",
   "id": "87156d5e",
   "metadata": {},
   "source": [
    "### Check basic details"
   ]
  },
  {
   "cell_type": "code",
   "execution_count": 3,
   "id": "20fc3cae",
   "metadata": {},
   "outputs": [
    {
     "name": "stdout",
     "output_type": "stream",
     "text": [
      "<class 'pandas.core.frame.DataFrame'>\n",
      "RangeIndex: 112 entries, 0 to 111\n",
      "Data columns (total 2 columns):\n",
      " #   Column  Non-Null Count  Dtype\n",
      "---  ------  --------------  -----\n",
      " 0   Year    112 non-null    int64\n",
      " 1   Price   112 non-null    int64\n",
      "dtypes: int64(2)\n",
      "memory usage: 1.9 KB\n"
     ]
    }
   ],
   "source": [
    "car_data.info()"
   ]
  },
  {
   "cell_type": "markdown",
   "id": "90e51e2e",
   "metadata": {},
   "source": [
    "No null values present in the dataset. Also there are no categorical variables present. So no need of encoding."
   ]
  },
  {
   "cell_type": "code",
   "execution_count": 4,
   "id": "1c6bd08d",
   "metadata": {},
   "outputs": [
    {
     "data": {
      "text/html": [
       "<div>\n",
       "<style scoped>\n",
       "    .dataframe tbody tr th:only-of-type {\n",
       "        vertical-align: middle;\n",
       "    }\n",
       "\n",
       "    .dataframe tbody tr th {\n",
       "        vertical-align: top;\n",
       "    }\n",
       "\n",
       "    .dataframe thead th {\n",
       "        text-align: right;\n",
       "    }\n",
       "</style>\n",
       "<table border=\"1\" class=\"dataframe\">\n",
       "  <thead>\n",
       "    <tr style=\"text-align: right;\">\n",
       "      <th></th>\n",
       "      <th>Year</th>\n",
       "      <th>Price</th>\n",
       "    </tr>\n",
       "  </thead>\n",
       "  <tbody>\n",
       "    <tr>\n",
       "      <th>count</th>\n",
       "      <td>112.000000</td>\n",
       "      <td>112.000000</td>\n",
       "    </tr>\n",
       "    <tr>\n",
       "      <th>mean</th>\n",
       "      <td>2016.669643</td>\n",
       "      <td>483866.044643</td>\n",
       "    </tr>\n",
       "    <tr>\n",
       "      <th>std</th>\n",
       "      <td>1.629616</td>\n",
       "      <td>91217.450533</td>\n",
       "    </tr>\n",
       "    <tr>\n",
       "      <th>min</th>\n",
       "      <td>2013.000000</td>\n",
       "      <td>300000.000000</td>\n",
       "    </tr>\n",
       "    <tr>\n",
       "      <th>25%</th>\n",
       "      <td>2015.000000</td>\n",
       "      <td>423750.000000</td>\n",
       "    </tr>\n",
       "    <tr>\n",
       "      <th>50%</th>\n",
       "      <td>2017.000000</td>\n",
       "      <td>500000.000000</td>\n",
       "    </tr>\n",
       "    <tr>\n",
       "      <th>75%</th>\n",
       "      <td>2017.000000</td>\n",
       "      <td>550000.000000</td>\n",
       "    </tr>\n",
       "    <tr>\n",
       "      <th>max</th>\n",
       "      <td>2020.000000</td>\n",
       "      <td>755000.000000</td>\n",
       "    </tr>\n",
       "  </tbody>\n",
       "</table>\n",
       "</div>"
      ],
      "text/plain": [
       "              Year          Price\n",
       "count   112.000000     112.000000\n",
       "mean   2016.669643  483866.044643\n",
       "std       1.629616   91217.450533\n",
       "min    2013.000000  300000.000000\n",
       "25%    2015.000000  423750.000000\n",
       "50%    2017.000000  500000.000000\n",
       "75%    2017.000000  550000.000000\n",
       "max    2020.000000  755000.000000"
      ]
     },
     "execution_count": 4,
     "metadata": {},
     "output_type": "execute_result"
    }
   ],
   "source": [
    "car_data.describe()"
   ]
  },
  {
   "cell_type": "markdown",
   "id": "fdce1aa5",
   "metadata": {},
   "source": [
    "This is the statistical summary of dataset."
   ]
  },
  {
   "cell_type": "markdown",
   "id": "3de46870",
   "metadata": {},
   "source": [
    "### Box plot to check outliers"
   ]
  },
  {
   "cell_type": "code",
   "execution_count": 5,
   "id": "14b03a82",
   "metadata": {},
   "outputs": [
    {
     "data": {
      "text/plain": [
       "<Axes: >"
      ]
     },
     "execution_count": 5,
     "metadata": {},
     "output_type": "execute_result"
    },
    {
     "data": {
      "image/png": "[encoded data removed]",
      "text/plain": [
       "<Figure size 640x480 with 1 Axes>"
      ]
     },
     "metadata": {},
     "output_type": "display_data"
    }
   ],
   "source": [
    "sns.boxplot(car_data)"
   ]
  },
  {
   "cell_type": "markdown",
   "id": "0ccfff96",
   "metadata": {},
   "source": [
    "'Price' column has an outlier."
   ]
  },
  {
   "cell_type": "markdown",
   "id": "4aece0ce",
   "metadata": {},
   "source": [
    "### Histogrm to check distribution"
   ]
  },
  {
   "cell_type": "code",
   "execution_count": 6,
   "id": "f67ea4b9",
   "metadata": {},
   "outputs": [
    {
     "data": {
      "text/plain": [
       "<Axes: xlabel='Price', ylabel='Count'>"
      ]
     },
     "execution_count": 6,
     "metadata": {},
     "output_type": "execute_result"
    },
    {
     "data": {
      "image/png": "[encoded data removed]",
      "text/plain": [
       "<Figure size 640x480 with 1 Axes>"
      ]
     },
     "metadata": {},
     "output_type": "display_data"
    }
   ],
   "source": [
    "sns.histplot(car_data.Price)"
   ]
  },
  {
   "cell_type": "code",
   "execution_count": 7,
   "id": "a9f49337",
   "metadata": {},
   "outputs": [
    {
     "data": {
      "text/plain": [
       "-0.08071088373618539"
      ]
     },
     "execution_count": 7,
     "metadata": {},
     "output_type": "execute_result"
    }
   ],
   "source": [
    "car_data.Price.skew()"
   ]
  },
  {
   "cell_type": "markdown",
   "id": "2b0578f1",
   "metadata": {},
   "source": [
    "Column 'Price' exhibits a normal distribution. So use Z score method for outlier detection."
   ]
  },
  {
   "cell_type": "markdown",
   "id": "46db2b71",
   "metadata": {},
   "source": [
    "### Z score method for outlier detection"
   ]
  },
  {
   "cell_type": "code",
   "execution_count": 8,
   "id": "e1a5771d",
   "metadata": {},
   "outputs": [
    {
     "data": {
      "text/html": [
       "<div>\n",
       "<style scoped>\n",
       "    .dataframe tbody tr th:only-of-type {\n",
       "        vertical-align: middle;\n",
       "    }\n",
       "\n",
       "    .dataframe tbody tr th {\n",
       "        vertical-align: top;\n",
       "    }\n",
       "\n",
       "    .dataframe thead th {\n",
       "        text-align: right;\n",
       "    }\n",
       "</style>\n",
       "<table border=\"1\" class=\"dataframe\">\n",
       "  <thead>\n",
       "    <tr style=\"text-align: right;\">\n",
       "      <th></th>\n",
       "      <th>Year</th>\n",
       "      <th>Price</th>\n",
       "    </tr>\n",
       "  </thead>\n",
       "  <tbody>\n",
       "    <tr>\n",
       "      <th>1</th>\n",
       "      <td>2019</td>\n",
       "      <td>755000</td>\n",
       "    </tr>\n",
       "  </tbody>\n",
       "</table>\n",
       "</div>"
      ],
      "text/plain": [
       "   Year   Price\n",
       "1  2019  755000"
      ]
     },
     "execution_count": 8,
     "metadata": {},
     "output_type": "execute_result"
    }
   ],
   "source": [
    "z_scores=zscore(car_data.Price)\n",
    "threshold=2.5\n",
    "outlier=car_data[(z_scores > threshold)|(z_scores < -threshold)]\n",
    "outlier"
   ]
  },
  {
   "cell_type": "markdown",
   "id": "f250083d",
   "metadata": {},
   "source": [
    "### Outlier handling using corresponding mean value"
   ]
  },
  {
   "cell_type": "code",
   "execution_count": 9,
   "id": "8fdfbefe",
   "metadata": {},
   "outputs": [
    {
     "data": {
      "text/html": [
       "<div>\n",
       "<style scoped>\n",
       "    .dataframe tbody tr th:only-of-type {\n",
       "        vertical-align: middle;\n",
       "    }\n",
       "\n",
       "    .dataframe tbody tr th {\n",
       "        vertical-align: top;\n",
       "    }\n",
       "\n",
       "    .dataframe thead th {\n",
       "        text-align: right;\n",
       "    }\n",
       "</style>\n",
       "<table border=\"1\" class=\"dataframe\">\n",
       "  <thead>\n",
       "    <tr style=\"text-align: right;\">\n",
       "      <th></th>\n",
       "      <th>Year</th>\n",
       "      <th>Price</th>\n",
       "    </tr>\n",
       "  </thead>\n",
       "  <tbody>\n",
       "    <tr>\n",
       "      <th>1</th>\n",
       "      <td>2019</td>\n",
       "      <td>577500</td>\n",
       "    </tr>\n",
       "  </tbody>\n",
       "</table>\n",
       "</div>"
      ],
      "text/plain": [
       "   Year   Price\n",
       "1  2019  577500"
      ]
     },
     "execution_count": 9,
     "metadata": {},
     "output_type": "execute_result"
    }
   ],
   "source": [
    "car_data.Price.iloc[outlier.index]=car_data[car_data.Year==outlier.Year[1]].mean()[1]\n",
    "car_data.iloc[outlier.index]"
   ]
  },
  {
   "cell_type": "markdown",
   "id": "e15dd82b",
   "metadata": {},
   "source": [
    "Replaced the outlier with corresponding (year 2019) mean price value."
   ]
  },
  {
   "cell_type": "markdown",
   "id": "829f95b6",
   "metadata": {},
   "source": [
    "### Check again for outliers using box plot"
   ]
  },
  {
   "cell_type": "code",
   "execution_count": 10,
   "id": "d33d8bd0",
   "metadata": {},
   "outputs": [
    {
     "data": {
      "text/plain": [
       "<Axes: >"
      ]
     },
     "execution_count": 10,
     "metadata": {},
     "output_type": "execute_result"
    },
    {
     "data": {
      "image/png": "[encoded data removed]",
      "text/plain": [
       "<Figure size 640x480 with 1 Axes>"
      ]
     },
     "metadata": {},
     "output_type": "display_data"
    }
   ],
   "source": [
    "sns.boxplot(car_data)"
   ]
  },
  {
   "cell_type": "markdown",
   "id": "ee84eadd",
   "metadata": {},
   "source": [
    "Now there are no outliers present in the dataset."
   ]
  },
  {
   "cell_type": "markdown",
   "id": "1a7b42d2",
   "metadata": {},
   "source": [
    "# Find the best linear relationship between Year and Price"
   ]
  },
  {
   "cell_type": "markdown",
   "id": "2aad32c7",
   "metadata": {},
   "source": [
    "## Correlation"
   ]
  },
  {
   "cell_type": "code",
   "execution_count": 11,
   "id": "6bb83e52",
   "metadata": {},
   "outputs": [
    {
     "data": {
      "text/plain": [
       "<Axes: >"
      ]
     },
     "execution_count": 11,
     "metadata": {},
     "output_type": "execute_result"
    },
    {
     "data": {
      "image/png": "[encoded data removed]",
      "text/plain": [
       "<Figure size 640x480 with 2 Axes>"
      ]
     },
     "metadata": {},
     "output_type": "display_data"
    }
   ],
   "source": [
    "sns.heatmap(car_data.corr(),annot=True)"
   ]
  },
  {
   "cell_type": "markdown",
   "id": "e186db15",
   "metadata": {},
   "source": [
    "Shows a high positive correlation (0.78) between Year and Price. i.e. As year of making increases, price of second-hand Hyundai grand i10 car also increases. "
   ]
  },
  {
   "cell_type": "code",
   "execution_count": 12,
   "id": "e2dffb89",
   "metadata": {},
   "outputs": [
    {
     "data": {
      "text/plain": [
       "<Axes: xlabel='Year', ylabel='Price'>"
      ]
     },
     "execution_count": 12,
     "metadata": {},
     "output_type": "execute_result"
    },
    {
     "data": {
      "image/png": "[encoded data removed]",
      "text/plain": [
       "<Figure size 640x480 with 1 Axes>"
      ]
     },
     "metadata": {},
     "output_type": "display_data"
    }
   ],
   "source": [
    "sns.lineplot(x=car_data.Year,y=car_data.Price)"
   ]
  },
  {
   "cell_type": "markdown",
   "id": "47611e82",
   "metadata": {},
   "source": [
    "Since there is a good linear relationship between two variables, we can go for linear regression model."
   ]
  },
  {
   "cell_type": "markdown",
   "id": "1c337011",
   "metadata": {},
   "source": [
    "# Linear regression model"
   ]
  },
  {
   "cell_type": "markdown",
   "id": "a61d1f4b",
   "metadata": {},
   "source": [
    "Target/ Dependent variable, y - Price\n",
    "\n",
    "Predictor/ Independent variable, x - Year"
   ]
  },
  {
   "cell_type": "code",
   "execution_count": 13,
   "id": "efedde78",
   "metadata": {},
   "outputs": [],
   "source": [
    "x=car_data.Year.values.reshape(-1,1)\n",
    "y=car_data.Price.values.reshape(-1,1)"
   ]
  },
  {
   "cell_type": "markdown",
   "id": "b32d3de3",
   "metadata": {},
   "source": [
    "## Without scaling"
   ]
  },
  {
   "cell_type": "markdown",
   "id": "50cac7c8",
   "metadata": {},
   "source": [
    "Split train and test data for both x and y variables and create a linear regression model using train data\n",
    "\n",
    "Since size of dataset is low, take test size as 0.1"
   ]
  },
  {
   "cell_type": "code",
   "execution_count": 14,
   "id": "e6a4af90",
   "metadata": {},
   "outputs": [],
   "source": [
    "x_train,x_test,y_train,y_test=train_test_split(x,y,test_size=0.1)\n",
    "lin_reg=linear_model.LinearRegression()\n",
    "lin_model=lin_reg.fit(x_train,y_train)"
   ]
  },
  {
   "cell_type": "markdown",
   "id": "964b3311",
   "metadata": {},
   "source": [
    "Predict the y values from x_test using created model"
   ]
  },
  {
   "cell_type": "code",
   "execution_count": 15,
   "id": "bf33ba2b",
   "metadata": {},
   "outputs": [],
   "source": [
    "y_pred=lin_model.predict(x_test)"
   ]
  },
  {
   "cell_type": "markdown",
   "id": "075e2374",
   "metadata": {},
   "source": [
    "### Evaluation metrics"
   ]
  },
  {
   "cell_type": "markdown",
   "id": "8197ca67",
   "metadata": {},
   "source": [
    "Mean squared error, Mean absolute error and R squared value"
   ]
  },
  {
   "cell_type": "code",
   "execution_count": 16,
   "id": "2b6220db",
   "metadata": {},
   "outputs": [
    {
     "name": "stdout",
     "output_type": "stream",
     "text": [
      "Mean Squared Error , MSE :  4172441065.937992\n",
      "Mean Absolute Error , MAE :  52762.76787937557\n",
      "R-Squared value : 0.3148232255729606\n"
     ]
    }
   ],
   "source": [
    "mse_linear=mean_squared_error(y_test,y_pred)\n",
    "mae_linear=mean_absolute_error(y_test,y_pred)\n",
    "r2_linear=r2_score(y_test,y_pred)\n",
    "print('Mean Squared Error , MSE : ',mse_linear)\n",
    "print('Mean Absolute Error , MAE : ',mae_linear)\n",
    "print('R-Squared value :' ,r2_linear)"
   ]
  },
  {
   "cell_type": "markdown",
   "id": "9464fc07",
   "metadata": {},
   "source": [
    "## With scaling"
   ]
  },
  {
   "cell_type": "markdown",
   "id": "8e2ba58b",
   "metadata": {},
   "source": [
    "Do standard scaling on both predictor and target variables"
   ]
  },
  {
   "cell_type": "code",
   "execution_count": 17,
   "id": "d4a4313a",
   "metadata": {},
   "outputs": [],
   "source": [
    "sc=StandardScaler()\n",
    "x_sc=sc.fit_transform(x)\n",
    "y_sc=sc.fit_transform(y)"
   ]
  },
  {
   "cell_type": "markdown",
   "id": "faba54f2",
   "metadata": {},
   "source": [
    "Create linear regression model using scaled variables and predict y values"
   ]
  },
  {
   "cell_type": "code",
   "execution_count": 18,
   "id": "cd67519c",
   "metadata": {},
   "outputs": [],
   "source": [
    "x_sc_train,x_sc_test,y_sc_train,y_sc_test=train_test_split(x_sc,y_sc,test_size=0.1)\n",
    "lin_model_sc=lin_reg.fit(x_sc_train,y_sc_train)\n",
    "y_sc_pred=lin_model_sc.predict(x_sc_test)"
   ]
  },
  {
   "cell_type": "markdown",
   "id": "9dc828d6",
   "metadata": {},
   "source": [
    "### Evaluation metrics"
   ]
  },
  {
   "cell_type": "code",
   "execution_count": 19,
   "id": "35098e1e",
   "metadata": {},
   "outputs": [
    {
     "name": "stdout",
     "output_type": "stream",
     "text": [
      "Mean Squared Error , MSE :  0.20576017855163842\n",
      "Mean Absolute Error , MAE :  0.3899191151054557\n",
      "R-Squared value : 0.7775620065953456\n"
     ]
    }
   ],
   "source": [
    "mse_linear_sc=mean_squared_error(y_sc_test,y_sc_pred)\n",
    "mae_linear_sc=mean_absolute_error(y_sc_test,y_sc_pred)\n",
    "r2_linear_sc=r2_score(y_sc_test,y_sc_pred)\n",
    "print('Mean Squared Error , MSE : ',mse_linear_sc)\n",
    "print('Mean Absolute Error , MAE : ',mae_linear_sc)\n",
    "print('R-Squared value :' ,r2_linear_sc)"
   ]
  },
  {
   "cell_type": "markdown",
   "id": "c2f61537",
   "metadata": {},
   "source": [
    "# Predict the possible price of a 2022 model second-hand grand i10"
   ]
  },
  {
   "cell_type": "markdown",
   "id": "440c8317",
   "metadata": {},
   "source": [
    "Create a new dataframe with year 2022"
   ]
  },
  {
   "cell_type": "code",
   "execution_count": 20,
   "id": "c8a2ed75",
   "metadata": {},
   "outputs": [],
   "source": [
    "x_new=pd.DataFrame({'Year':[2022]}).values.reshape(-1,1)"
   ]
  },
  {
   "cell_type": "markdown",
   "id": "66062768",
   "metadata": {},
   "source": [
    "Predict car price of year 2022 using linear regression model"
   ]
  },
  {
   "cell_type": "code",
   "execution_count": 21,
   "id": "91c2717f",
   "metadata": {},
   "outputs": [
    {
     "data": {
      "text/plain": [
       "array([[708642.24809654]])"
      ]
     },
     "execution_count": 21,
     "metadata": {},
     "output_type": "execute_result"
    }
   ],
   "source": [
    "lin_model=lin_reg.fit(x_train,y_train)\n",
    "y_pred_2022=lin_model.predict(x_new)\n",
    "y_pred_2022"
   ]
  },
  {
   "cell_type": "markdown",
   "id": "7040b8a9",
   "metadata": {},
   "source": [
    "Possible price of a 2022 model second-hand grand i10 car is approximately rupees 7,08,642."
   ]
  },
  {
   "cell_type": "markdown",
   "id": "cee46af0",
   "metadata": {},
   "source": [
    "# Lasso regression model"
   ]
  },
  {
   "cell_type": "markdown",
   "id": "bb85331c",
   "metadata": {},
   "source": [
    "Alpha parameter controls the regularization strength of Lasso regression. Default value is 1."
   ]
  },
  {
   "cell_type": "code",
   "execution_count": 22,
   "id": "a274812c",
   "metadata": {},
   "outputs": [],
   "source": [
    "lasso = linear_model.Lasso(alpha=1)"
   ]
  },
  {
   "cell_type": "markdown",
   "id": "faa12661",
   "metadata": {},
   "source": [
    "## Without scaling"
   ]
  },
  {
   "cell_type": "markdown",
   "id": "2e6d06cd",
   "metadata": {},
   "source": [
    "Create lasso regression model and predict y values"
   ]
  },
  {
   "cell_type": "code",
   "execution_count": 23,
   "id": "5ca331b7",
   "metadata": {},
   "outputs": [],
   "source": [
    "lasso_model=lasso.fit(x_train, y_train)\n",
    "y_pred = lasso_model.predict(x_test)"
   ]
  },
  {
   "cell_type": "markdown",
   "id": "736490ee",
   "metadata": {},
   "source": [
    "### Evaluation metrics"
   ]
  },
  {
   "cell_type": "code",
   "execution_count": 24,
   "id": "c8c634ac",
   "metadata": {},
   "outputs": [
    {
     "name": "stdout",
     "output_type": "stream",
     "text": [
      "Mean Squared Error , MSE :  4172436907.230881\n",
      "Mean Absolute Error , MAE :  52762.8576653252\n",
      "R-Squared value : 0.31482390849441566\n"
     ]
    }
   ],
   "source": [
    "mse_lasso=mean_squared_error(y_test,y_pred)\n",
    "mae_lasso=mean_absolute_error(y_test,y_pred)\n",
    "r2_lasso=r2_score(y_test,y_pred)\n",
    "print('Mean Squared Error , MSE : ',mse_lasso)\n",
    "print('Mean Absolute Error , MAE : ',mae_lasso)\n",
    "print('R-Squared value :' ,r2_lasso)"
   ]
  },
  {
   "cell_type": "markdown",
   "id": "a5503d1c",
   "metadata": {},
   "source": [
    "## With scaling"
   ]
  },
  {
   "cell_type": "markdown",
   "id": "aa404b93",
   "metadata": {},
   "source": [
    "Create lasso regression model using scaled variables and predict y values"
   ]
  },
  {
   "cell_type": "code",
   "execution_count": 25,
   "id": "b720f9d4",
   "metadata": {},
   "outputs": [],
   "source": [
    "lasso_model_sc=lasso.fit(x_sc_train,y_sc_train)\n",
    "y_sc_pred=lasso_model_sc.predict(x_sc_test)"
   ]
  },
  {
   "cell_type": "markdown",
   "id": "3822860e",
   "metadata": {},
   "source": [
    "### Evaluation metrics"
   ]
  },
  {
   "cell_type": "code",
   "execution_count": 26,
   "id": "1a8be0ce",
   "metadata": {},
   "outputs": [
    {
     "name": "stdout",
     "output_type": "stream",
     "text": [
      "Mean Squared Error , MSE :  0.9327805746035908\n",
      "Mean Absolute Error , MAE :  0.7491460076709783\n",
      "R-Squared value : -0.008386757642669052\n"
     ]
    }
   ],
   "source": [
    "mse_lasso_sc=mean_squared_error(y_sc_test,y_sc_pred)\n",
    "mae_lasso_sc=mean_absolute_error(y_sc_test,y_sc_pred)\n",
    "r2_lasso_sc=r2_score(y_sc_test,y_sc_pred)\n",
    "print('Mean Squared Error , MSE : ',mse_lasso_sc)\n",
    "print('Mean Absolute Error , MAE : ',mae_lasso_sc)\n",
    "print('R-Squared value :' ,r2_lasso_sc)"
   ]
  },
  {
   "cell_type": "markdown",
   "id": "ef462461",
   "metadata": {},
   "source": [
    "# Comparison between Linear regression and Lasso regression models"
   ]
  },
  {
   "cell_type": "code",
   "execution_count": 27,
   "id": "62a4e280",
   "metadata": {},
   "outputs": [
    {
     "data": {
      "text/html": [
       "<div>\n",
       "<style scoped>\n",
       "    .dataframe tbody tr th:only-of-type {\n",
       "        vertical-align: middle;\n",
       "    }\n",
       "\n",
       "    .dataframe tbody tr th {\n",
       "        vertical-align: top;\n",
       "    }\n",
       "\n",
       "    .dataframe thead tr th {\n",
       "        text-align: left;\n",
       "    }\n",
       "</style>\n",
       "<table border=\"1\" class=\"dataframe\">\n",
       "  <thead>\n",
       "    <tr>\n",
       "      <th></th>\n",
       "      <th colspan=\"2\" halign=\"left\">Without Scaling</th>\n",
       "      <th colspan=\"2\" halign=\"left\">With Scaling</th>\n",
       "    </tr>\n",
       "    <tr>\n",
       "      <th></th>\n",
       "      <th>Linear</th>\n",
       "      <th>Lasso</th>\n",
       "      <th>Linear</th>\n",
       "      <th>Lasso</th>\n",
       "    </tr>\n",
       "  </thead>\n",
       "  <tbody>\n",
       "    <tr>\n",
       "      <th>MSE</th>\n",
       "      <td>4.172441e+09</td>\n",
       "      <td>4.172437e+09</td>\n",
       "      <td>0.205760</td>\n",
       "      <td>0.932781</td>\n",
       "    </tr>\n",
       "    <tr>\n",
       "      <th>MAE</th>\n",
       "      <td>5.276277e+04</td>\n",
       "      <td>5.276286e+04</td>\n",
       "      <td>0.389919</td>\n",
       "      <td>0.749146</td>\n",
       "    </tr>\n",
       "    <tr>\n",
       "      <th>R Squared</th>\n",
       "      <td>3.148232e-01</td>\n",
       "      <td>3.148239e-01</td>\n",
       "      <td>0.777562</td>\n",
       "      <td>-0.008387</td>\n",
       "    </tr>\n",
       "  </tbody>\n",
       "</table>\n",
       "</div>"
      ],
      "text/plain": [
       "          Without Scaling               With Scaling          \n",
       "                   Linear         Lasso       Linear     Lasso\n",
       "MSE          4.172441e+09  4.172437e+09     0.205760  0.932781\n",
       "MAE          5.276277e+04  5.276286e+04     0.389919  0.749146\n",
       "R Squared    3.148232e-01  3.148239e-01     0.777562 -0.008387"
      ]
     },
     "execution_count": 27,
     "metadata": {},
     "output_type": "execute_result"
    }
   ],
   "source": [
    "mux = pd.MultiIndex.from_product([['Without Scaling','With Scaling'],['Linear','Lasso']])\n",
    "Metric=['MSE','MAE','R Squared']\n",
    "comp_table = pd.DataFrame([[mse_linear,mse_lasso,mse_linear_sc,mse_lasso_sc],[mae_linear,mae_lasso,mae_linear_sc,mae_lasso_sc],[r2_linear,r2_lasso,r2_linear_sc,r2_lasso_sc]] , columns=mux)\n",
    "comp_table.index=Metric\n",
    "comp_table"
   ]
  },
  {
   "cell_type": "markdown",
   "id": "9f656529",
   "metadata": {},
   "source": [
    "Observations: \n",
    "\n",
    "    1. Without the scaling of predictor and target variables, performances of both Linear regression and Lasso regression models are almost same.\n",
    "\n",
    "    2. With scaling, Linear regression model exhibits good metric values ( low MSE and MAE values and high R squared value) compared to Lasso regression model. So we can say that, Linear regression model performs better than Lasso regression model for this dataset.\n",
    "    \n",
    "    3. Overall, in the case of given dataset, Linear regression model with scaled variables has high performance compared to other 3."
   ]
  }
 ],
 "metadata": {
  "kernelspec": {
   "display_name": "Python 3 (ipykernel)",
   "language": "python",
   "name": "python3"
  },
  "language_info": {
   "codemirror_mode": {
    "name": "ipython",
    "version": 3
   },
   "file_extension": ".py",
   "mimetype": "text/x-python",
   "name": "python",
   "nbconvert_exporter": "python",
   "pygments_lexer": "ipython3",
   "version": "3.11.5"
  }
 },
 "nbformat": 4,
 "nbformat_minor": 5
}
