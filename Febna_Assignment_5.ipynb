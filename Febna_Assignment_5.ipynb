{
 "cells": [
  {
   "cell_type": "markdown",
   "id": "0a6d2a84",
   "metadata": {},
   "source": [
    "# ASSIGNMENT ON CLASSIFICATION"
   ]
  },
  {
   "cell_type": "markdown",
   "id": "cf278c87",
   "metadata": {},
   "source": [
    "## Import required libraries"
   ]
  },
  {
   "cell_type": "code",
   "execution_count": 1,
   "id": "5b8aebc4",
   "metadata": {},
   "outputs": [],
   "source": [
    "import numpy as np\n",
    "import pandas as pd\n",
    "import matplotlib.pyplot as plt\n",
    "import seaborn as sns\n",
    "from sklearn.preprocessing import LabelEncoder\n",
    "from sklearn.model_selection import train_test_split\n",
    "from sklearn.linear_model import LogisticRegression\n",
    "from sklearn.metrics import accuracy_score,precision_score,recall_score,f1_score\n",
    "from sklearn.neighbors import KNeighborsClassifier\n",
    "from sklearn.svm import SVC\n",
    "from sklearn.tree import DecisionTreeClassifier\n",
    "from sklearn.ensemble import RandomForestClassifier"
   ]
  },
  {
   "cell_type": "markdown",
   "id": "896251d8",
   "metadata": {},
   "source": [
    " ## Read the dataset to python environment"
   ]
  },
  {
   "cell_type": "code",
   "execution_count": 2,
   "id": "5e2740b8",
   "metadata": {},
   "outputs": [
    {
     "data": {
      "text/html": [
       "<div>\n",
       "<style scoped>\n",
       "    .dataframe tbody tr th:only-of-type {\n",
       "        vertical-align: middle;\n",
       "    }\n",
       "\n",
       "    .dataframe tbody tr th {\n",
       "        vertical-align: top;\n",
       "    }\n",
       "\n",
       "    .dataframe thead th {\n",
       "        text-align: right;\n",
       "    }\n",
       "</style>\n",
       "<table border=\"1\" class=\"dataframe\">\n",
       "  <thead>\n",
       "    <tr style=\"text-align: right;\">\n",
       "      <th></th>\n",
       "      <th>SL</th>\n",
       "      <th>SW</th>\n",
       "      <th>PL</th>\n",
       "      <th>PW</th>\n",
       "      <th>Classification</th>\n",
       "    </tr>\n",
       "  </thead>\n",
       "  <tbody>\n",
       "    <tr>\n",
       "      <th>0</th>\n",
       "      <td>5.1</td>\n",
       "      <td>3.5</td>\n",
       "      <td>1.4</td>\n",
       "      <td>0.2</td>\n",
       "      <td>Iris-setosa</td>\n",
       "    </tr>\n",
       "    <tr>\n",
       "      <th>1</th>\n",
       "      <td>4.9</td>\n",
       "      <td>3.0</td>\n",
       "      <td>1.4</td>\n",
       "      <td>0.2</td>\n",
       "      <td>Iris-setosa</td>\n",
       "    </tr>\n",
       "    <tr>\n",
       "      <th>2</th>\n",
       "      <td>NaN</td>\n",
       "      <td>3.2</td>\n",
       "      <td>1.3</td>\n",
       "      <td>0.2</td>\n",
       "      <td>Iris-setosa</td>\n",
       "    </tr>\n",
       "    <tr>\n",
       "      <th>3</th>\n",
       "      <td>4.6</td>\n",
       "      <td>3.1</td>\n",
       "      <td>1.5</td>\n",
       "      <td>0.2</td>\n",
       "      <td>Iris-setosa</td>\n",
       "    </tr>\n",
       "    <tr>\n",
       "      <th>4</th>\n",
       "      <td>5.0</td>\n",
       "      <td>3.6</td>\n",
       "      <td>1.4</td>\n",
       "      <td>0.2</td>\n",
       "      <td>Iris-setosa</td>\n",
       "    </tr>\n",
       "    <tr>\n",
       "      <th>...</th>\n",
       "      <td>...</td>\n",
       "      <td>...</td>\n",
       "      <td>...</td>\n",
       "      <td>...</td>\n",
       "      <td>...</td>\n",
       "    </tr>\n",
       "    <tr>\n",
       "      <th>145</th>\n",
       "      <td>6.7</td>\n",
       "      <td>3.0</td>\n",
       "      <td>5.2</td>\n",
       "      <td>2.3</td>\n",
       "      <td>Iris-virginica</td>\n",
       "    </tr>\n",
       "    <tr>\n",
       "      <th>146</th>\n",
       "      <td>6.3</td>\n",
       "      <td>2.5</td>\n",
       "      <td>5.0</td>\n",
       "      <td>1.9</td>\n",
       "      <td>Iris-virginica</td>\n",
       "    </tr>\n",
       "    <tr>\n",
       "      <th>147</th>\n",
       "      <td>6.5</td>\n",
       "      <td>3.0</td>\n",
       "      <td>NaN</td>\n",
       "      <td>2.0</td>\n",
       "      <td>Iris-virginica</td>\n",
       "    </tr>\n",
       "    <tr>\n",
       "      <th>148</th>\n",
       "      <td>6.2</td>\n",
       "      <td>3.4</td>\n",
       "      <td>5.4</td>\n",
       "      <td>2.3</td>\n",
       "      <td>Iris-virginica</td>\n",
       "    </tr>\n",
       "    <tr>\n",
       "      <th>149</th>\n",
       "      <td>5.9</td>\n",
       "      <td>3.0</td>\n",
       "      <td>5.1</td>\n",
       "      <td>1.8</td>\n",
       "      <td>Iris-virginica</td>\n",
       "    </tr>\n",
       "  </tbody>\n",
       "</table>\n",
       "<p>150 rows × 5 columns</p>\n",
       "</div>"
      ],
      "text/plain": [
       "      SL   SW   PL   PW  Classification\n",
       "0    5.1  3.5  1.4  0.2     Iris-setosa\n",
       "1    4.9  3.0  1.4  0.2     Iris-setosa\n",
       "2    NaN  3.2  1.3  0.2     Iris-setosa\n",
       "3    4.6  3.1  1.5  0.2     Iris-setosa\n",
       "4    5.0  3.6  1.4  0.2     Iris-setosa\n",
       "..   ...  ...  ...  ...             ...\n",
       "145  6.7  3.0  5.2  2.3  Iris-virginica\n",
       "146  6.3  2.5  5.0  1.9  Iris-virginica\n",
       "147  6.5  3.0  NaN  2.0  Iris-virginica\n",
       "148  6.2  3.4  5.4  2.3  Iris-virginica\n",
       "149  5.9  3.0  5.1  1.8  Iris-virginica\n",
       "\n",
       "[150 rows x 5 columns]"
      ]
     },
     "execution_count": 2,
     "metadata": {},
     "output_type": "execute_result"
    }
   ],
   "source": [
    "iris=pd.read_excel(r'C:\\Users\\aksmk\\OneDrive\\Desktop\\DSA\\Assignments\\5\\iris.xls')\n",
    "iris"
   ]
  },
  {
   "cell_type": "markdown",
   "id": "6ee11020",
   "metadata": {},
   "source": [
    "# PRE - PROCESSING"
   ]
  },
  {
   "cell_type": "markdown",
   "id": "55517622",
   "metadata": {},
   "source": [
    "## Check basic information"
   ]
  },
  {
   "cell_type": "code",
   "execution_count": 3,
   "id": "d37b5172",
   "metadata": {},
   "outputs": [
    {
     "name": "stdout",
     "output_type": "stream",
     "text": [
      "<class 'pandas.core.frame.DataFrame'>\n",
      "RangeIndex: 150 entries, 0 to 149\n",
      "Data columns (total 5 columns):\n",
      " #   Column          Non-Null Count  Dtype  \n",
      "---  ------          --------------  -----  \n",
      " 0   SL              143 non-null    float64\n",
      " 1   SW              144 non-null    float64\n",
      " 2   PL              144 non-null    float64\n",
      " 3   PW              150 non-null    float64\n",
      " 4   Classification  150 non-null    object \n",
      "dtypes: float64(4), object(1)\n",
      "memory usage: 6.0+ KB\n"
     ]
    }
   ],
   "source": [
    "iris.info()"
   ]
  },
  {
   "cell_type": "markdown",
   "id": "b69fb208",
   "metadata": {},
   "source": [
    "There are null values present in 3 columns - SL, SW and PL. Also all predictor variables are numerical and only target variable is categorical."
   ]
  },
  {
   "cell_type": "markdown",
   "id": "9de0e8ae",
   "metadata": {},
   "source": [
    "## Check distribution type of columns containing null values"
   ]
  },
  {
   "cell_type": "code",
   "execution_count": 4,
   "id": "41c58438",
   "metadata": {},
   "outputs": [
    {
     "name": "stdout",
     "output_type": "stream",
     "text": [
      "Skewness value of column SL  :  0.3068227108046868\n",
      "Skewness value of column SW  :  0.37781843718771746\n",
      "Skewness value of column PL  :  -0.2689053923783847\n"
     ]
    }
   ],
   "source": [
    "for i in ['SL','SW','PL']:\n",
    "    print('Skewness value of column' , i ,' : ' , iris[i].skew())"
   ]
  },
  {
   "cell_type": "code",
   "execution_count": 5,
   "id": "c97706e0",
   "metadata": {},
   "outputs": [
    {
     "data": {
      "image/png": "[encoded data removed]",
      "text/plain": [
       "<Figure size 1300x400 with 3 Axes>"
      ]
     },
     "metadata": {},
     "output_type": "display_data"
    }
   ],
   "source": [
    "fig,axes = plt.subplots(1, 3, sharex=True,figsize=(13, 4))\n",
    "plt.suptitle('Histogram for checking distribution')\n",
    "sns.histplot(iris.SL,ax=axes[0])\n",
    "sns.histplot(iris.SW,ax=axes[1])\n",
    "sns.histplot(iris.PL,ax=axes[2])\n",
    "plt.subplots_adjust(wspace=0.4)\n",
    "plt.show()"
   ]
  },
  {
   "cell_type": "markdown",
   "id": "ba1c770a",
   "metadata": {},
   "source": [
    "All distributions are skewed. Hence, impute null values with corresponding feature median value."
   ]
  },
  {
   "cell_type": "markdown",
   "id": "87119e01",
   "metadata": {},
   "source": [
    "## Null value imputation"
   ]
  },
  {
   "cell_type": "code",
   "execution_count": 6,
   "id": "5a0f0da7",
   "metadata": {},
   "outputs": [],
   "source": [
    "for i in ['SL','SW','PL']:\n",
    "    iris[i]=iris[i].fillna(iris[i].median())"
   ]
  },
  {
   "cell_type": "markdown",
   "id": "4d7a91bc",
   "metadata": {},
   "source": [
    "## Check again for null values"
   ]
  },
  {
   "cell_type": "code",
   "execution_count": 7,
   "id": "b528d83a",
   "metadata": {},
   "outputs": [
    {
     "data": {
      "text/plain": [
       "SL                0\n",
       "SW                0\n",
       "PL                0\n",
       "PW                0\n",
       "Classification    0\n",
       "dtype: int64"
      ]
     },
     "execution_count": 7,
     "metadata": {},
     "output_type": "execute_result"
    }
   ],
   "source": [
    "iris.isnull().sum()"
   ]
  },
  {
   "cell_type": "markdown",
   "id": "1233be94",
   "metadata": {},
   "source": [
    "All null values are imputed properly."
   ]
  },
  {
   "cell_type": "markdown",
   "id": "59a85632",
   "metadata": {},
   "source": [
    "## Boxplot for checking outliers"
   ]
  },
  {
   "cell_type": "code",
   "execution_count": 8,
   "id": "ba8352d3",
   "metadata": {},
   "outputs": [
    {
     "data": {
      "image/png": "[encoded data removed]",
      "text/plain": [
       "<Figure size 640x480 with 1 Axes>"
      ]
     },
     "metadata": {},
     "output_type": "display_data"
    }
   ],
   "source": [
    "sns.boxplot(iris)\n",
    "plt.show()"
   ]
  },
  {
   "cell_type": "markdown",
   "id": "cb056f88",
   "metadata": {},
   "source": [
    "Only column SW contains outliers. Since it is a skewed distribution, use IQR method for outlier detection."
   ]
  },
  {
   "cell_type": "markdown",
   "id": "ca194822",
   "metadata": {},
   "source": [
    "## IQR method for outlier detection"
   ]
  },
  {
   "cell_type": "code",
   "execution_count": 9,
   "id": "06bdaf73",
   "metadata": {},
   "outputs": [
    {
     "data": {
      "text/plain": [
       "[4.0, 4.4, 4.1, 4.2, 2.0]"
      ]
     },
     "execution_count": 9,
     "metadata": {},
     "output_type": "execute_result"
    }
   ],
   "source": [
    "Q1=np.percentile(iris.SW,25,method='midpoint')\n",
    "Q3=np.percentile(iris.SW,75,method='midpoint')\n",
    "IQR=Q3-Q1\n",
    "up_lim=Q3+1.5*IQR\n",
    "low_lim=Q1-1.5*IQR\n",
    "outliers=[]\n",
    "for i in iris.SW:\n",
    "    if ((i<low_lim) | (i > up_lim)):\n",
    "        outliers.append(i)\n",
    "outliers        "
   ]
  },
  {
   "cell_type": "markdown",
   "id": "f68cc579",
   "metadata": {},
   "source": [
    "## Outlier handling using clip function"
   ]
  },
  {
   "cell_type": "code",
   "execution_count": 10,
   "id": "13e501c6",
   "metadata": {},
   "outputs": [],
   "source": [
    "iris.SW=iris.SW.clip(upper=up_lim,lower=low_lim)"
   ]
  },
  {
   "cell_type": "markdown",
   "id": "a0a0b025",
   "metadata": {},
   "source": [
    "## Check again for outliers using boxplot"
   ]
  },
  {
   "cell_type": "code",
   "execution_count": 11,
   "id": "50c34f5f",
   "metadata": {},
   "outputs": [
    {
     "data": {
      "image/png": "[encoded data removed]",
      "text/plain": [
       "<Figure size 640x480 with 1 Axes>"
      ]
     },
     "metadata": {},
     "output_type": "display_data"
    }
   ],
   "source": [
    "sns.boxplot(iris)\n",
    "plt.show()"
   ]
  },
  {
   "cell_type": "markdown",
   "id": "9c2da396",
   "metadata": {},
   "source": [
    "Now, there are no outliers present in the dataset."
   ]
  },
  {
   "cell_type": "markdown",
   "id": "2bd1d2c2",
   "metadata": {},
   "source": [
    "## Label encoding"
   ]
  },
  {
   "cell_type": "markdown",
   "id": "8d05a9fd",
   "metadata": {},
   "source": [
    "Do label encoding on our target variable"
   ]
  },
  {
   "cell_type": "code",
   "execution_count": 12,
   "id": "3672f55f",
   "metadata": {},
   "outputs": [
    {
     "data": {
      "text/html": [
       "<div>\n",
       "<style scoped>\n",
       "    .dataframe tbody tr th:only-of-type {\n",
       "        vertical-align: middle;\n",
       "    }\n",
       "\n",
       "    .dataframe tbody tr th {\n",
       "        vertical-align: top;\n",
       "    }\n",
       "\n",
       "    .dataframe thead th {\n",
       "        text-align: right;\n",
       "    }\n",
       "</style>\n",
       "<table border=\"1\" class=\"dataframe\">\n",
       "  <thead>\n",
       "    <tr style=\"text-align: right;\">\n",
       "      <th></th>\n",
       "      <th>SL</th>\n",
       "      <th>SW</th>\n",
       "      <th>PL</th>\n",
       "      <th>PW</th>\n",
       "      <th>Classification</th>\n",
       "    </tr>\n",
       "  </thead>\n",
       "  <tbody>\n",
       "    <tr>\n",
       "      <th>0</th>\n",
       "      <td>5.1</td>\n",
       "      <td>3.5</td>\n",
       "      <td>1.40</td>\n",
       "      <td>0.2</td>\n",
       "      <td>0</td>\n",
       "    </tr>\n",
       "    <tr>\n",
       "      <th>1</th>\n",
       "      <td>4.9</td>\n",
       "      <td>3.0</td>\n",
       "      <td>1.40</td>\n",
       "      <td>0.2</td>\n",
       "      <td>0</td>\n",
       "    </tr>\n",
       "    <tr>\n",
       "      <th>2</th>\n",
       "      <td>5.8</td>\n",
       "      <td>3.2</td>\n",
       "      <td>1.30</td>\n",
       "      <td>0.2</td>\n",
       "      <td>0</td>\n",
       "    </tr>\n",
       "    <tr>\n",
       "      <th>3</th>\n",
       "      <td>4.6</td>\n",
       "      <td>3.1</td>\n",
       "      <td>1.50</td>\n",
       "      <td>0.2</td>\n",
       "      <td>0</td>\n",
       "    </tr>\n",
       "    <tr>\n",
       "      <th>4</th>\n",
       "      <td>5.0</td>\n",
       "      <td>3.6</td>\n",
       "      <td>1.40</td>\n",
       "      <td>0.2</td>\n",
       "      <td>0</td>\n",
       "    </tr>\n",
       "    <tr>\n",
       "      <th>...</th>\n",
       "      <td>...</td>\n",
       "      <td>...</td>\n",
       "      <td>...</td>\n",
       "      <td>...</td>\n",
       "      <td>...</td>\n",
       "    </tr>\n",
       "    <tr>\n",
       "      <th>145</th>\n",
       "      <td>6.7</td>\n",
       "      <td>3.0</td>\n",
       "      <td>5.20</td>\n",
       "      <td>2.3</td>\n",
       "      <td>2</td>\n",
       "    </tr>\n",
       "    <tr>\n",
       "      <th>146</th>\n",
       "      <td>6.3</td>\n",
       "      <td>2.5</td>\n",
       "      <td>5.00</td>\n",
       "      <td>1.9</td>\n",
       "      <td>2</td>\n",
       "    </tr>\n",
       "    <tr>\n",
       "      <th>147</th>\n",
       "      <td>6.5</td>\n",
       "      <td>3.0</td>\n",
       "      <td>4.35</td>\n",
       "      <td>2.0</td>\n",
       "      <td>2</td>\n",
       "    </tr>\n",
       "    <tr>\n",
       "      <th>148</th>\n",
       "      <td>6.2</td>\n",
       "      <td>3.4</td>\n",
       "      <td>5.40</td>\n",
       "      <td>2.3</td>\n",
       "      <td>2</td>\n",
       "    </tr>\n",
       "    <tr>\n",
       "      <th>149</th>\n",
       "      <td>5.9</td>\n",
       "      <td>3.0</td>\n",
       "      <td>5.10</td>\n",
       "      <td>1.8</td>\n",
       "      <td>2</td>\n",
       "    </tr>\n",
       "  </tbody>\n",
       "</table>\n",
       "<p>150 rows × 5 columns</p>\n",
       "</div>"
      ],
      "text/plain": [
       "      SL   SW    PL   PW  Classification\n",
       "0    5.1  3.5  1.40  0.2               0\n",
       "1    4.9  3.0  1.40  0.2               0\n",
       "2    5.8  3.2  1.30  0.2               0\n",
       "3    4.6  3.1  1.50  0.2               0\n",
       "4    5.0  3.6  1.40  0.2               0\n",
       "..   ...  ...   ...  ...             ...\n",
       "145  6.7  3.0  5.20  2.3               2\n",
       "146  6.3  2.5  5.00  1.9               2\n",
       "147  6.5  3.0  4.35  2.0               2\n",
       "148  6.2  3.4  5.40  2.3               2\n",
       "149  5.9  3.0  5.10  1.8               2\n",
       "\n",
       "[150 rows x 5 columns]"
      ]
     },
     "execution_count": 12,
     "metadata": {},
     "output_type": "execute_result"
    }
   ],
   "source": [
    "le=LabelEncoder()\n",
    "iris.Classification=le.fit_transform(iris.Classification)\n",
    "iris"
   ]
  },
  {
   "cell_type": "code",
   "execution_count": 13,
   "id": "757e683c",
   "metadata": {},
   "outputs": [
    {
     "name": "stdout",
     "output_type": "stream",
     "text": [
      "<class 'pandas.core.frame.DataFrame'>\n",
      "RangeIndex: 150 entries, 0 to 149\n",
      "Data columns (total 5 columns):\n",
      " #   Column          Non-Null Count  Dtype  \n",
      "---  ------          --------------  -----  \n",
      " 0   SL              150 non-null    float64\n",
      " 1   SW              150 non-null    float64\n",
      " 2   PL              150 non-null    float64\n",
      " 3   PW              150 non-null    float64\n",
      " 4   Classification  150 non-null    int32  \n",
      "dtypes: float64(4), int32(1)\n",
      "memory usage: 5.4 KB\n"
     ]
    }
   ],
   "source": [
    "iris.info()"
   ]
  },
  {
   "cell_type": "markdown",
   "id": "fd1b4686",
   "metadata": {},
   "source": [
    "Now every columns became numerical columns."
   ]
  },
  {
   "cell_type": "markdown",
   "id": "f4f50314",
   "metadata": {},
   "source": [
    "## Correlation"
   ]
  },
  {
   "cell_type": "code",
   "execution_count": 14,
   "id": "f79e759e",
   "metadata": {},
   "outputs": [
    {
     "data": {
      "image/png": "[encoded data removed]",
      "text/plain": [
       "<Figure size 640x480 with 2 Axes>"
      ]
     },
     "metadata": {},
     "output_type": "display_data"
    }
   ],
   "source": [
    "sns.heatmap(iris.corr(),annot=True)\n",
    "plt.show()"
   ]
  },
  {
   "cell_type": "markdown",
   "id": "60048b0e",
   "metadata": {},
   "source": [
    "Columns PL and PW has a high positive correlation of 0.94. Also, both of them shows a high positive correlation with target variable. So we are not dropping any of them ( Also size of dataset is low)."
   ]
  },
  {
   "cell_type": "markdown",
   "id": "9103afe4",
   "metadata": {},
   "source": [
    "# CLASSIFICATION"
   ]
  },
  {
   "cell_type": "markdown",
   "id": "9aa30f51",
   "metadata": {},
   "source": [
    "Target variable/ dependent variable, y = Classification\n",
    "\n",
    "Predictor variable/ independent variable, x = SL, SW, PL and PW"
   ]
  },
  {
   "cell_type": "markdown",
   "id": "869f28eb",
   "metadata": {},
   "source": [
    "### Differentiate x, y and split train, test"
   ]
  },
  {
   "cell_type": "markdown",
   "id": "7c85e9b9",
   "metadata": {},
   "source": [
    "Take test size as 0.1 since the size of dataset is low"
   ]
  },
  {
   "cell_type": "code",
   "execution_count": 15,
   "id": "aa57d428",
   "metadata": {},
   "outputs": [],
   "source": [
    "x=iris.drop('Classification',axis=1)\n",
    "y=iris['Classification']\n",
    "x_train,x_test,y_train,y_test=train_test_split(x,y,random_state=555,test_size=0.1)"
   ]
  },
  {
   "cell_type": "markdown",
   "id": "bfc43a8c",
   "metadata": {},
   "source": [
    "# Logistic Regression"
   ]
  },
  {
   "cell_type": "code",
   "execution_count": 16,
   "id": "3236cb16",
   "metadata": {},
   "outputs": [
    {
     "name": "stdout",
     "output_type": "stream",
     "text": [
      "Accuracy of Logistic Regression Model 0.8\n",
      "Precision of Logistic Regression Model 0.92\n",
      "Recall of Logistic Regression Model: 0.8\n",
      "F1 score of Logistic Regression Model 0.826959706959707\n"
     ]
    }
   ],
   "source": [
    "log_reg=LogisticRegression(max_iter=10000)\n",
    "log_reg.fit(x_train,y_train)\n",
    "log_reg_pred=log_reg.predict(x_test)\n",
    "print('Accuracy of Logistic Regression Model', accuracy_score(y_test,log_reg_pred))\n",
    "print('Precision of Logistic Regression Model', precision_score(y_test,log_reg_pred,average='weighted'))\n",
    "print('Recall of Logistic Regression Model:',recall_score(y_test,log_reg_pred,average='weighted'))\n",
    "print('F1 score of Logistic Regression Model', f1_score(y_test,log_reg_pred,average='weighted'))"
   ]
  },
  {
   "cell_type": "markdown",
   "id": "13deed7a",
   "metadata": {},
   "source": [
    "# K Nearest Neighbor (KNN) "
   ]
  },
  {
   "cell_type": "markdown",
   "id": "df4dd478",
   "metadata": {},
   "source": [
    "### To choose k value"
   ]
  },
  {
   "cell_type": "code",
   "execution_count": 17,
   "id": "1df68b5e",
   "metadata": {},
   "outputs": [
    {
     "data": {
      "image/png": "[encoded data removed]",
      "text/plain": [
       "<Figure size 640x480 with 1 Axes>"
      ]
     },
     "metadata": {},
     "output_type": "display_data"
    }
   ],
   "source": [
    "metric_k=[]\n",
    "neighbors=np.arange(3,15)\n",
    "for k in neighbors:\n",
    "    classifier=KNeighborsClassifier(n_neighbors=k,metric='euclidean')\n",
    "    classifier.fit(x_train,y_train)\n",
    "    knn_pred=classifier.predict(x_test)\n",
    "    metric_k.append(accuracy_score(y_test,knn_pred))\n",
    "plt.plot(neighbors,metric_k,'o-')   \n",
    "plt.show()"
   ]
  },
  {
   "cell_type": "markdown",
   "id": "58fc42f6",
   "metadata": {},
   "source": [
    "High accuracy got for k values 5 - 14. So choose k as 5 and do classification."
   ]
  },
  {
   "cell_type": "code",
   "execution_count": 18,
   "id": "e26abdb7",
   "metadata": {},
   "outputs": [
    {
     "name": "stdout",
     "output_type": "stream",
     "text": [
      "Accuracy of KNN Classifier 0.8666666666666667\n",
      "Precision of KNN Classifier 0.9333333333333333\n",
      "Recall of KNN Classifier: 0.8666666666666667\n",
      "F1 score of KNN Classifier 0.8832944832944832\n"
     ]
    }
   ],
   "source": [
    "classifier=KNeighborsClassifier(n_neighbors=5,metric='euclidean')\n",
    "classifier.fit(x_train,y_train)\n",
    "knn_pred=classifier.predict(x_test)\n",
    "print('Accuracy of KNN Classifier', accuracy_score(y_test,knn_pred))\n",
    "print('Precision of KNN Classifier', precision_score(y_test,knn_pred,average='weighted'))\n",
    "print('Recall of KNN Classifier:',recall_score(y_test,knn_pred,average='weighted'))\n",
    "print('F1 score of KNN Classifier', f1_score(y_test,knn_pred,average='weighted'))"
   ]
  },
  {
   "cell_type": "markdown",
   "id": "ff88b8b9",
   "metadata": {},
   "source": [
    "# Support Vector Machine (SVM)"
   ]
  },
  {
   "cell_type": "code",
   "execution_count": 19,
   "id": "3d468e5b",
   "metadata": {},
   "outputs": [
    {
     "name": "stdout",
     "output_type": "stream",
     "text": [
      "Accuracy of SVM Classifier 0.9333333333333333\n",
      "Precision of SVM Classifier 0.9555555555555556\n",
      "Recall of SVM Classifier: 0.9333333333333333\n",
      "F1 score of SVM Classifier 0.936969696969697\n"
     ]
    }
   ],
   "source": [
    "sv_clf=SVC(kernel='linear')\n",
    "sv_clf.fit(x_train,y_train)\n",
    "svm_pred=sv_clf.predict(x_test)\n",
    "print('Accuracy of SVM Classifier', accuracy_score(y_test,svm_pred))\n",
    "print('Precision of SVM Classifier', precision_score(y_test,svm_pred,average='weighted'))\n",
    "print('Recall of SVM Classifier:',recall_score(y_test,svm_pred,average='weighted'))\n",
    "print('F1 score of SVM Classifier', f1_score(y_test,svm_pred,average='weighted'))"
   ]
  },
  {
   "cell_type": "markdown",
   "id": "58ca4c21",
   "metadata": {},
   "source": [
    "# Decision Tree"
   ]
  },
  {
   "cell_type": "code",
   "execution_count": 20,
   "id": "6606e313",
   "metadata": {},
   "outputs": [
    {
     "name": "stdout",
     "output_type": "stream",
     "text": [
      "Accuracy of Decision Tree Classifier 0.9333333333333333\n",
      "Precision of Decision Tree Classifier 0.9555555555555556\n",
      "Recall of Decision Tree Classifier: 0.9333333333333333\n",
      "F1 score of Decision Tree Classifier 0.936969696969697\n"
     ]
    }
   ],
   "source": [
    "dt_clf=DecisionTreeClassifier(max_depth=50,criterion='entropy',min_samples_leaf=5)\n",
    "dt_clf.fit(x_train,y_train)\n",
    "dt_pred=dt_clf.predict(x_test)\n",
    "print('Accuracy of Decision Tree Classifier', accuracy_score(y_test,dt_pred))\n",
    "print('Precision of Decision Tree Classifier', precision_score(y_test,dt_pred,average='weighted'))\n",
    "print('Recall of Decision Tree Classifier:',recall_score(y_test,dt_pred,average='weighted'))\n",
    "print('F1 score of Decision Tree Classifier', f1_score(y_test,dt_pred,average='weighted'))"
   ]
  },
  {
   "cell_type": "markdown",
   "id": "b0f40cd4",
   "metadata": {},
   "source": [
    "# Random Forest"
   ]
  },
  {
   "cell_type": "code",
   "execution_count": 21,
   "id": "6491f7e7",
   "metadata": {},
   "outputs": [
    {
     "name": "stdout",
     "output_type": "stream",
     "text": [
      "Accuracy of Random Forest Classifier 0.8666666666666667\n",
      "Precision of Random Forest Classifier 0.9333333333333333\n",
      "Recall of Random Forest Classifier: 0.8666666666666667\n",
      "F1 score of Random Forest Classifier 0.8755555555555556\n"
     ]
    }
   ],
   "source": [
    "rf_clf=RandomForestClassifier(criterion='gini',min_samples_split=3,min_samples_leaf=5,max_features='sqrt')\n",
    "rf_clf.fit(x_train,y_train)\n",
    "rf_pred=rf_clf.predict(x_test)\n",
    "print('Accuracy of Random Forest Classifier', accuracy_score(y_test,rf_pred))\n",
    "print('Precision of Random Forest Classifier', precision_score(y_test,rf_pred,average='weighted'))\n",
    "print('Recall of Random Forest Classifier:',recall_score(y_test,rf_pred,average='weighted'))\n",
    "print('F1 score of Random Forest Classifier', f1_score(y_test,rf_pred,average='weighted'))"
   ]
  },
  {
   "cell_type": "markdown",
   "id": "3dbb40cb",
   "metadata": {},
   "source": [
    "# Comparison Between Different Classification Models"
   ]
  },
  {
   "cell_type": "code",
   "execution_count": 22,
   "id": "239381ed",
   "metadata": {},
   "outputs": [
    {
     "data": {
      "text/html": [
       "<div>\n",
       "<style scoped>\n",
       "    .dataframe tbody tr th:only-of-type {\n",
       "        vertical-align: middle;\n",
       "    }\n",
       "\n",
       "    .dataframe tbody tr th {\n",
       "        vertical-align: top;\n",
       "    }\n",
       "\n",
       "    .dataframe thead tr th {\n",
       "        text-align: left;\n",
       "    }\n",
       "</style>\n",
       "<table border=\"1\" class=\"dataframe\">\n",
       "  <thead>\n",
       "    <tr>\n",
       "      <th></th>\n",
       "      <th>Logistic Regression</th>\n",
       "      <th>KNN</th>\n",
       "      <th>SVM</th>\n",
       "      <th>Decision Tree</th>\n",
       "      <th>Random Forest</th>\n",
       "    </tr>\n",
       "  </thead>\n",
       "  <tbody>\n",
       "    <tr>\n",
       "      <th>Accuracy</th>\n",
       "      <td>0.80000</td>\n",
       "      <td>0.866667</td>\n",
       "      <td>0.933333</td>\n",
       "      <td>0.933333</td>\n",
       "      <td>0.866667</td>\n",
       "    </tr>\n",
       "    <tr>\n",
       "      <th>Precision</th>\n",
       "      <td>0.92000</td>\n",
       "      <td>0.933333</td>\n",
       "      <td>0.955556</td>\n",
       "      <td>0.955556</td>\n",
       "      <td>0.933333</td>\n",
       "    </tr>\n",
       "    <tr>\n",
       "      <th>Recall</th>\n",
       "      <td>0.80000</td>\n",
       "      <td>0.866667</td>\n",
       "      <td>0.933333</td>\n",
       "      <td>0.933333</td>\n",
       "      <td>0.866667</td>\n",
       "    </tr>\n",
       "    <tr>\n",
       "      <th>F1 score</th>\n",
       "      <td>0.82696</td>\n",
       "      <td>0.883294</td>\n",
       "      <td>0.936970</td>\n",
       "      <td>0.936970</td>\n",
       "      <td>0.875556</td>\n",
       "    </tr>\n",
       "  </tbody>\n",
       "</table>\n",
       "</div>"
      ],
      "text/plain": [
       "          Logistic Regression       KNN       SVM Decision Tree Random Forest\n",
       "Accuracy              0.80000  0.866667  0.933333      0.933333      0.866667\n",
       "Precision             0.92000  0.933333  0.955556      0.955556      0.933333\n",
       "Recall                0.80000  0.866667  0.933333      0.933333      0.866667\n",
       "F1 score              0.82696  0.883294  0.936970      0.936970      0.875556"
      ]
     },
     "execution_count": 22,
     "metadata": {},
     "output_type": "execute_result"
    }
   ],
   "source": [
    "mux = pd.MultiIndex.from_product([['Logistic Regression','KNN','SVM','Decision Tree','Random Forest']])\n",
    "Metric=['Accuracy','Precision','Recall','F1 score']\n",
    "comp_table = pd.DataFrame([[accuracy_score(y_test,log_reg_pred),accuracy_score(y_test,knn_pred),accuracy_score(y_test,svm_pred),accuracy_score(y_test,dt_pred),accuracy_score(y_test,rf_pred)],[precision_score(y_test,log_reg_pred,average='weighted'),precision_score(y_test,knn_pred,average='weighted'),precision_score(y_test,svm_pred,average='weighted'),precision_score(y_test,dt_pred,average='weighted'),precision_score(y_test,rf_pred,average='weighted')],[recall_score(y_test,log_reg_pred,average='weighted'),recall_score(y_test,knn_pred,average='weighted'),recall_score(y_test,svm_pred,average='weighted'),recall_score(y_test,dt_pred,average='weighted'),recall_score(y_test,rf_pred,average='weighted')],[f1_score(y_test,log_reg_pred,average='weighted'),f1_score(y_test,knn_pred,average='weighted'),f1_score(y_test,svm_pred,average='weighted'),f1_score(y_test,dt_pred,average='weighted'),f1_score(y_test,rf_pred,average='weighted')]], columns=mux)\n",
    "comp_table.index=Metric\n",
    "comp_table"
   ]
  },
  {
   "cell_type": "markdown",
   "id": "001335f2",
   "metadata": {},
   "source": [
    "OBSERVATION: For this classification problem, SVM and Decision Tree classifiers possess high evaluation metric values. KNN and Random Forest classifiers come next. Logistic Regression shows least metric values."
   ]
  }
 ],
 "metadata": {
  "kernelspec": {
   "display_name": "Python 3 (ipykernel)",
   "language": "python",
   "name": "python3"
  },
  "language_info": {
   "codemirror_mode": {
    "name": "ipython",
    "version": 3
   },
   "file_extension": ".py",
   "mimetype": "text/x-python",
   "name": "python",
   "nbconvert_exporter": "python",
   "pygments_lexer": "ipython3",
   "version": "3.11.5"
  }
 },
 "nbformat": 4,
 "nbformat_minor": 5
}
